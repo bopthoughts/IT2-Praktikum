{
 "cells": [
  {
   "cell_type": "markdown",
   "id": "e052eb99-f1d5-42a5-903c-440f5f49c953",
   "metadata": {},
   "source": [
    "# Praktikum Informationstechnik im Maschinenbau II\n",
    "## P04 - Kennenlernen von JupyterLab, Einrichten der Arbeitsumgebung, git-Integration"
   ]
  },
  {
   "cell_type": "markdown",
   "id": "d056272c-7952-43b9-b299-f13748260091",
   "metadata": {
    "tags": []
   },
   "source": [
    "# Aufgabe 4 Arbeit mit dem Jupyter-Notebook\n",
    "\n",
    "Eine gute Einführung in finden Sie z.B. [hier](https://klever.hs-augsburg.de/nb/OWL/Hinweise%20und%20Anmerkungen%20zu%20Jupyter%20Notebooks.ipynb). \n"
   ]
  },
  {
   "cell_type": "markdown",
   "id": "607937f5-7cb9-4685-b548-ace8f0b23e87",
   "metadata": {},
   "source": [
    "## Eine Zelle kann mehrere Inhaltstypen aufweisen. Für uns wichtig:\n",
    "#### Markdown-Zellen\n",
    "- Statische Inhalte werden in einer Auszeichnungssprache namens `Markdown` geschrieben. Wichtig ist, dass in einer Markdown-Zelle auch html und latex verwendet werden können, so dass heute komplette wissenschaftliche Abhandlungen in Form von interaktiven Jupyternotebooks publiziert werden.\n",
    "#### Code-Zellen\n",
    "- Programmcode wird mit dem *Kernel* ausgeführt, der dem Notebook zugeordet ist (oben rechts zu sehen); also bei uns immer `Python 3 (ipykernel)`\n",
    "- Eine Code-Zelle trägt eine Sequenznummer und kann eine Ausgabe ebenfalls mit derselben Sequenznummer haben\n",
    "- Code Zellen können in beliebiger Reihenfolge ausgeführt werden. "
   ]
  },
  {
   "cell_type": "markdown",
   "id": "11928f07-ee80-4822-b56f-be60c91c22b6",
   "metadata": {},
   "source": [
    "## Eine Markdown- oder Code-Zelle kann in einem von zwei Modi sein\n",
    "- Sie erkennen den Modus an der Darstellung der Inhalte und in der Statuszeile\n",
    "- Im `Command`-Modus, wechseln Sie zwischen Zellen, erzeugen neue Zellen, können ganze Zellen kopieren und einfügen etc.\n",
    "- Im `Edit`-Modus bearbeiten Sie den Inhalt einer Zelle\n",
    "\n",
    "#### Die wichtisten Tasten für den Einstieg:\n",
    "##### Im `Command`-Modus\n",
    "- `Enter` wechselt in den `Edit` Mode\n",
    "- `C` kopiert (ohne Steuerung, Shift oder Alt!)\n",
    "- `V` fügt ein\n",
    "- `M` setzt den Inhaltstyp auf `Markdown`\n",
    "- `Shift-M` (wenn mehr als eine Zelle markiert ist): verbindet die Zellen\n",
    "- `Y` setzt den Inhaltstyp auf `Code`\n",
    "- etc\n",
    "##### Im `Edit`-Modus\n",
    "- `Enter` macht innerhalb einer Zelle nur eine neue Zeile\n",
    "- `Esc` wechselt zurück in den `Command`-Modus\n",
    "- `Strg-Enter` führt die Zelle aus und wechselt zurück in den `Command`-Modus\n",
    "- `Shift-Enter` führt eine Zelle aus, wechselt in `Command` und setzt den Cursor in die darunterliegende Zelle\n",
    "- `Alt-Enter` führt eine Zelle aus, wechselt in `Command` und erzeugt unter der aktuellen eine neue leere Zelle\n",
    "- `Strg-Shift-Bindestrich`: trennt eine Codezelle an der Stelle\n",
    "- etc"
   ]
  },
  {
   "cell_type": "markdown",
   "id": "f521f2b5-5c29-442b-a37a-eba2678af9f1",
   "metadata": {},
   "source": [
    "### Vertiefung\n",
    "Schauen Sie sich nun die Datei `Reihenentwicklung_e.pdf` an. Diese Datei ist mit der Funktion `File`->`Save and Export as ...` aus einem leider nicht mehr vorhandenen Notebook `Reihenentwicklung_e.ipynb` erzeugt worden. Versuchen Sie, das Notebook zu rekonstruieren."
   ]
  },
  {
   "cell_type": "code",
   "execution_count": 1,
   "id": "121bb87c-ed5b-4a15-bdc8-9ecfd7ab6c80",
   "metadata": {},
   "outputs": [],
   "source": [
    "## Spielfeld zum Editieren"
   ]
  }
 ],
 "metadata": {
  "kernelspec": {
   "display_name": "Python 3 (ipykernel)",
   "language": "python",
   "name": "python3"
  },
  "language_info": {
   "codemirror_mode": {
    "name": "ipython",
    "version": 3
   },
   "file_extension": ".py",
   "mimetype": "text/x-python",
   "name": "python",
   "nbconvert_exporter": "python",
   "pygments_lexer": "ipython3",
   "version": "3.10.8"
  }
 },
 "nbformat": 4,
 "nbformat_minor": 5
}
