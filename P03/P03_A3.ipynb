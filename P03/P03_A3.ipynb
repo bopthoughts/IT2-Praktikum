{
 "cells": [
  {
   "cell_type": "markdown",
   "id": "2cc1deff-6048-45f3-9dc3-026238a730bf",
   "metadata": {},
   "source": [
    "# Praktikum Informationstechnik im Maschinenbau II\n",
    "## P03 - Programmentwicklung zur Prüfsummenberechnung"
   ]
  },
  {
   "cell_type": "markdown",
   "id": "d3ccb43b-8b4a-49ab-8ac2-509822c18236",
   "metadata": {},
   "source": [
    "## Aufgabe 3: Endmontage\n",
    "\n",
    "1. Kopieren Sie die beiden entwickelten und getesteten Functions\n",
    "2. Schreiben Sie eine Function, die für einen übergebene Wagennummer die Prüfziffer berechnet\n",
    "3. Packen Sie die Function in eine Eingabeschleife, so dass Sie beliebige Wagennummern übergeben können"
   ]
  },
  {
   "cell_type": "markdown",
   "id": "01924deb-bae9-4459-ab54-28e36d8f0cbe",
   "metadata": {},
   "source": [
    "## 1. Die beiden Functions `qsumme` und `stellenprodukte`\n",
    "\n",
    ">Man kann auch ein Modul daraus machen und daraus importieren"
   ]
  },
  {
   "cell_type": "code",
   "execution_count": null,
   "id": "ccda8fe5-649a-4034-9df4-bbe5d8bd3ab3",
   "metadata": {},
   "outputs": [],
   "source": [
    "def qsumme(zahl):\n",
    "    return qs"
   ]
  },
  {
   "cell_type": "code",
   "execution_count": null,
   "id": "56edf474-1790-4cdf-a306-63e8de53ae1c",
   "metadata": {},
   "outputs": [],
   "source": [
    "def stellenprodukte(wn_str):\n",
    "    return "
   ]
  },
  {
   "cell_type": "markdown",
   "id": "6ce56b98-83a4-47c2-a91b-7350d5bfba2d",
   "metadata": {},
   "source": [
    "## 2. Die weiteren Schritte zunächst interaktiv entwickeln"
   ]
  },
  {
   "cell_type": "code",
   "execution_count": null,
   "id": "c03076f6-b00d-48e9-8145-85c6c61d6b13",
   "metadata": {},
   "outputs": [],
   "source": [
    "# Unsere Testnummer\n"
   ]
  },
  {
   "cell_type": "code",
   "execution_count": null,
   "id": "10f941f9-c913-47a0-9e76-e0fb00a6e949",
   "metadata": {},
   "outputs": [],
   "source": [
    "# Ermitteln der Stellenprodukte\n",
    "sprod = \n",
    "sprod"
   ]
  },
  {
   "cell_type": "code",
   "execution_count": null,
   "id": "8a34ef67-414a-4cba-9353-06a155beacfd",
   "metadata": {},
   "outputs": [],
   "source": [
    "# Berechnen der einzelnen Quersummen (für die beiden zweistelligen Elemente)\n",
    "qsummen = \n",
    "qsummen"
   ]
  },
  {
   "cell_type": "code",
   "execution_count": null,
   "id": "c54e0032-5cad-4f3b-bcb0-886c64e00fdc",
   "metadata": {},
   "outputs": [],
   "source": [
    "# Summe über die Quersummen"
   ]
  },
  {
   "cell_type": "code",
   "execution_count": null,
   "id": "d76a20d2-10fd-4da3-840f-1bc72946c244",
   "metadata": {},
   "outputs": [],
   "source": [
    "qss = \n",
    "qss"
   ]
  },
  {
   "cell_type": "code",
   "execution_count": null,
   "id": "eeb3f004-9954-474e-8b3f-7d3492a2a91f",
   "metadata": {},
   "outputs": [],
   "source": [
    "# Die Differenz zum nächsten Zehner ermittelen\n"
   ]
  },
  {
   "cell_type": "markdown",
   "id": "72679b93-c501-43dd-9252-865881cccfdd",
   "metadata": {},
   "source": [
    "## alles okay?  In Function zusammenfassen"
   ]
  },
  {
   "cell_type": "code",
   "execution_count": null,
   "id": "29aa5da4-c1c8-4e94-95d1-5cc00b6e18c3",
   "metadata": {},
   "outputs": [],
   "source": [
    "def pruefziffer(wn_str):\n"
   ]
  },
  {
   "cell_type": "code",
   "execution_count": null,
   "id": "fbdb2745-04ef-4efe-9a7b-7c1d6030f43d",
   "metadata": {},
   "outputs": [],
   "source": [
    "# Ausprobieren\n",
    "pruefziffer(wn_str)"
   ]
  },
  {
   "cell_type": "markdown",
   "id": "ca891866-1d5c-40eb-8158-83f96633bb05",
   "metadata": {},
   "source": [
    "## 3. Interaktives Programm zur Berechnung beliebiger Prüfziffern"
   ]
  },
  {
   "cell_type": "code",
   "execution_count": null,
   "id": "d66791f9-8bcd-4f26-9d94-9314b308fd77",
   "metadata": {},
   "outputs": [],
   "source": [
    "while True:\n",
    "    wn_str = input('Bitte eine Wagennummer eingeben: ')\n"
   ]
  },
  {
   "cell_type": "code",
   "execution_count": null,
   "id": "2cc8f886-f86f-4946-a842-06e4386ab215",
   "metadata": {},
   "outputs": [],
   "source": []
  }
 ],
 "metadata": {
  "kernelspec": {
   "display_name": "Python 3 (ipykernel)",
   "language": "python",
   "name": "python3"
  },
  "language_info": {
   "codemirror_mode": {
    "name": "ipython",
    "version": 3
   },
   "file_extension": ".py",
   "mimetype": "text/x-python",
   "name": "python",
   "nbconvert_exporter": "python",
   "pygments_lexer": "ipython3",
   "version": "3.10.8"
  }
 },
 "nbformat": 4,
 "nbformat_minor": 5
}
