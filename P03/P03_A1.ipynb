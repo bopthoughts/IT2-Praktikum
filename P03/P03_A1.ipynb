{
 "cells": [
  {
   "cell_type": "markdown",
   "id": "2cc1deff-6048-45f3-9dc3-026238a730bf",
   "metadata": {
    "tags": []
   },
   "source": [
    "# Praktikum Informationstechnik im Maschinenbau II\n",
    "## P03 - Programmentwicklung zur Prüfsummenberechnung"
   ]
  },
  {
   "cell_type": "markdown",
   "id": "a83a824e-6799-49b0-986d-6994ebc52820",
   "metadata": {},
   "source": [
    "\n",
    "In dieser Fallstudie wird ein einfaches Programm zur Berechnung der Prüfziffer einer Wagennummer in Python erstellt. \n",
    "\n",
    "#### Hintergrund\n",
    "Zur Überprüfung, ob Wagenlisten korrekt übermittelt wurden, werden Wagennummern mit einer Prüfziffer versehen. Das seit vielen Jahrzehnten im UIC-Bereich standardisierte Verfahren zeichnet sich dadurch aus, dass es im Gegensatz zu CRC-Codes leicht im Kopf berechnet werden kann.\n",
    "\n",
    "Eine (Güter-) Wagennummer lautet zum Beispiel \n",
    "\n",
    "\t31 80 3779 152 - 8\n",
    "\t\n",
    "Sie besteht aus dem zweistelligen \"Austauschcode\" (hier: 31), einer zweistelligen Kennung des Landes der Zulassung (hier: 80, Deutschland), einer vierstelligen Bauartbezeichnung (hier: 3779) und einer dreistelligen Seriennummer innerhalb der Bauart (hier: 152). Die Ziffer hinter dem Bindestrich ist die Prüfziffer und wird nach folgendem Rechenschema ermittelt:\n",
    "\n",
    "|  |  |  |  |  |  |  |  |  |  |  |  |  |\n",
    "|--|--|--|--|--|--|--|--|--|--|--|--|--|\n",
    "|3|1|8|0|3|7|7|9|1|5|2| |Ziffernfolge\n",
    "|2|1|2|1|2|1|2|1|2|1|2| |Stellenmultiplikatoren\n",
    "6 | 1 | 16 | 0 | 6 | 7 | 14 | 9 | 2 | 5 | 4 | |Produkte\n",
    "6 | 1 | 7 | 0 | 6 |7 | 5 | 9 | 2 | 5 | 4 | 52 | Quersummen der Stellen\n",
    "\n",
    "Die Differenz der Quersumme zum nächsten Zehner ist die Prüfziffer, also hier 60-52 = 8. \n"
   ]
  },
  {
   "cell_type": "markdown",
   "id": "2bf5c9ed-9c58-452c-ae1b-4703af8d8ea4",
   "metadata": {
    "tags": []
   },
   "source": [
    "### Vorgehensweise\n",
    "1. Entwicklung einer Python-Function, die die Quersumme einer Integerzahl mit beliebiger Stellenzahl berechnet\n",
    "2. Entwicklung einer Python-Function, die aus einer als String gegebenen Wagennummer die Stellenprodukte berechnet\n",
    "3. Berechnen der Prüfziffer unter Verwendung der beiden Functions"
   ]
  },
  {
   "cell_type": "markdown",
   "id": "d3ccb43b-8b4a-49ab-8ac2-509822c18236",
   "metadata": {},
   "source": [
    "## Aufgabe 1: Quersummenberechnung\n",
    "\n",
    "#### Vorgehensweise \"Test driven development\" (TDD)\n",
    "\n",
    "Wir folgen dem Paradigma der testgetriebenen Entwicklung:\n",
    "1. Formulieren der Test-Cases. \n",
    ">Diese Arbeit ist schon erledigt worden. Als qsumme_test.json finden Sie eine json-Datei, die Sie zunächst mit `json.load()` einlesen. Der Inhalt ist eine Liste von Dictionaries, von denen jedes den Eingabewert und das erwartete Ergebnis bzw. die erwartete Exception beinhaltet\n",
    "2. Schreiben einer Dummy-Function `qsumme(zahl)`, die zunächst nur eine `Exception` wirft\n",
    "3. Schreiben einer \"Test-Suite\", welche die Testcases der Reihe nach abarbeitet\n",
    "4. Sukzessives Ergänzen der Function um die Behandlung der Testfälle, bis am Ende bei allen Tests \"passed\" steht oder eine erwartete Exception auftritt"
   ]
  },
  {
   "cell_type": "markdown",
   "id": "01924deb-bae9-4459-ab54-28e36d8f0cbe",
   "metadata": {},
   "source": [
    "## Hinweise zum Schreiben der Funktion\n",
    "\n",
    "- In Python ist `//` die ganzzahlige Division `15 // 10 == 1` \n",
    "- `%` liefert den Rest der ganzzahligen Division (Modulo) `15 % 10 == 5`"
   ]
  },
  {
   "cell_type": "code",
   "execution_count": 2,
   "id": "53e28107-80d7-4031-b9be-580e5b512345",
   "metadata": {},
   "outputs": [
    {
     "data": {
      "text/plain": [
       "[{'wert': 3, 'ergebnis': 3, 'comment': 'einstellig'},\n",
       " {'wert': 25, 'ergebnis': 7, 'comment': 'mehrstellig'},\n",
       " {'wert': 125744, 'ergebnis': 23, 'comment': 'viele Stellen'},\n",
       " {'wert': 'zahl', 'ergebnis': 'TypeError', 'comment': 'kein numerischer Wert'},\n",
       " {'wert': -45, 'ergebnis': 'ValueError', 'comment': 'negative Zahl'}]"
      ]
     },
     "execution_count": 2,
     "metadata": {},
     "output_type": "execute_result"
    }
   ],
   "source": [
    "# 1. Einlesen der Testcases aus qsumme_test.json\n",
    "import json\n",
    "with open('qsumme_test.json', 'r') as fobj:\n",
    "    qsumme_test = json.load(fobj)\n",
    "\n",
    "# Kontrollausgabe\n",
    "qsumme_test"
   ]
  },
  {
   "cell_type": "code",
   "execution_count": 4,
   "id": "f68af7da-b579-49a7-b7be-746be47d4d5c",
   "metadata": {},
   "outputs": [],
   "source": [
    "# 2. Dummy-Function\n",
    "def qsumme(zahl):\n",
    "    raise Exception"
   ]
  },
  {
   "cell_type": "markdown",
   "id": "9a44b534-0927-443b-a710-177e79f4d654",
   "metadata": {},
   "source": [
    "### Testprogramm\n",
    "\n",
    "Das Testprogramm wird Ihnen komplett vorgegeben. Sie sollen sukzessiv die Function qsumme so erweitern, dass für alle Tests \"passed\" ausgegeben wird oder eine erwartete Exception auftritt"
   ]
  },
  {
   "cell_type": "code",
   "execution_count": 43,
   "id": "740664b9-c749-4eb0-8bd3-e5e03e7b59ea",
   "metadata": {
    "tags": []
   },
   "outputs": [],
   "source": [
    "# 4. Function sukzessiv mit Leben füllen und immer wieder zum Test zurückkehren\n",
    "def qsumme(zahl):\n",
    "    if type(zahl)==str:\n",
    "        raise TypeError\n",
    "    szahl=str(zahl)\n",
    "    qsumme=0\n",
    "    for ch in szahl:\n",
    "        qsumme+=int(ch)\n",
    "    return qsumme"
   ]
  },
  {
   "cell_type": "code",
   "execution_count": 40,
   "id": "e85f8d01-441a-4859-b7b8-3d2d83ea8b95",
   "metadata": {},
   "outputs": [
    {
     "name": "stdout",
     "output_type": "stream",
     "text": [
      "Test for 3 passed!\n",
      "Test for 25 passed!\n",
      "Test for 125744 passed!\n",
      "Test for zahl failed. Erwartete Exception vom Typ <class 'TypeError'>\n",
      "Test for -45 failed. Erwartete Exception vom Typ <class 'ValueError'>\n"
     ]
    }
   ],
   "source": [
    "# 3. Test-\"Suite\" \n",
    "for testcase in qsumme_test:\n",
    "    try:\n",
    "        # Aufruf der Funktion mit wert\n",
    "        result = qsumme(testcase['wert'])\n",
    "        # Ergebnis entspricht nicht dem erwarteten\n",
    "        assert result == testcase['ergebnis'], f'{result} != {testcase[\"ergebnis\"]}' \n",
    "        print(f'Test for {testcase[\"wert\"]} passed!') \n",
    "    except AssertionError as e:\n",
    "        print(f'Test for {testcase[\"wert\"]} failed. Unerwartetes Ergebnis {e}') \n",
    "    except (ValueError, TypeError) as e:\n",
    "        if type(e) == eval(testcase['ergebnis']):\n",
    "            print(f'Test for {testcase[\"wert\"]} failed. Erwartete Exception vom Typ {type(e)}') \n",
    "        else:\n",
    "            print(f'Test for {testcase[\"wert\"]} failed. Unerwartete Exception vom Typ {type(e)}') \n",
    "    except Exception as e:\n",
    "        print(f'Test for {testcase[\"wert\"]} failed {type(e)} {e}') "
   ]
  },
  {
   "cell_type": "code",
   "execution_count": 38,
   "id": "7cc916ea-d857-49a2-b9ed-5509070e88fb",
   "metadata": {},
   "outputs": [
    {
     "data": {
      "text/plain": [
       "1"
      ]
     },
     "execution_count": 42,
     "metadata": {},
     "output_type": "execute_result"
    }
   ],
   "source": [
    "## Spielwiese: Probieren Sie die Anweisungen aus, bevor Sie sie in die Function schreiben\n",
    "qsumme(11)\n"
   ]
  },
  {
   "cell_type": "code",
   "execution_count": null,
   "id": "7ed34ac0-df4c-4dc3-810a-9ccf86e67d78",
   "metadata": {},
   "outputs": [],
   "source": []
  }
 ],
 "metadata": {
  "kernelspec": {
   "display_name": "Python 3 (ipykernel)",
   "language": "python",
   "name": "python3"
  },
  "language_info": {
   "codemirror_mode": {
    "name": "ipython",
    "version": 3
   },
   "file_extension": ".py",
   "mimetype": "text/x-python",
   "name": "python",
   "nbconvert_exporter": "python",
   "pygments_lexer": "ipython3",
   "version": "3.10.8"
  }
 },
 "nbformat": 4,
 "nbformat_minor": 5
}
