{
 "cells": [
  {
   "cell_type": "markdown",
   "id": "2cc1deff-6048-45f3-9dc3-026238a730bf",
   "metadata": {},
   "source": [
    "# Praktikum Informationstechnik im Maschinenbau II\n",
    "## P03 - Programmentwicklung zur Prüfsummenberechnung"
   ]
  },
  {
   "cell_type": "markdown",
   "id": "a83a824e-6799-49b0-986d-6994ebc52820",
   "metadata": {},
   "source": [
    "\n",
    "In dieser Fallstudie wird ein einfaches Programm zur Berechnung der Prüfziffer einer Wagennummer in Python erstellt. \n",
    "\n",
    "#### Hintergrund\n",
    "Zur Überprüfung, ob Wagenlisten korrekt übermittelt wurden, werden Wagennummern mit einer Prüfziffer versehen. Das seit vielen Jahrzehnten im UIC-Bereich standardisierte Verfahren zeichnet sich dadurch aus, dass es im Gegensatz zu CRC-Codes leicht im Kopf berechnet werden kann.\n",
    "\n",
    "Eine (Güter-) Wagennummer lautet zum Beispiel \n",
    "\n",
    "\t31 80 3779 152 - 8\n",
    "\t\n",
    "Sie besteht aus dem zweistelligen \"Austauschcode\" (hier: 31), einer zweistelligen Kennung des Landes der Zulassung (hier: 80, Deutschland), einer vierstelligen Bauartbezeichnung (hier: 3779) und einer dreistelligen Seriennummer innerhalb der Bauart (hier: 152). Die Ziffer hinter dem Bindestrich ist die Prüfziffer und wird nach folgendem Rechenschema ermittelt:\n",
    "\n",
    "|  |  |  |  |  |  |  |  |  |  |  |  |  |\n",
    "|--|--|--|--|--|--|--|--|--|--|--|--|--|\n",
    "|3|1|8|0|3|7|7|9|1|5|2| |Ziffernfolge\n",
    "|2|1|2|1|2|1|2|1|2|1|2| |Stellenmultiplikatoren\n",
    "6 | 1 | 16 | 0 | 6 | 7 | 14 | 9 | 2 | 5 | 4 | |Produkte\n",
    "6 | 1 | 7 | 0 | 6 |7 | 5 | 9 | 2 | 5 | 4 | 52 | Quersummen der Stellen\n",
    "\n",
    "Die Differenz der Quersumme zum nächsten Zehner ist die Prüfziffer, also hier 60-52 = 8. \n"
   ]
  },
  {
   "cell_type": "markdown",
   "id": "d3ccb43b-8b4a-49ab-8ac2-509822c18236",
   "metadata": {},
   "source": [
    "## Aufgabe 2: Berechnung der Stellenprodukte\n",
    "\n",
    "Voraussetzung: Die Wagennummer ist als 11-stelliger String gegeben\n",
    "\n",
    "Schreiben Sie eine Function, die eine liste von 11 Integers zurückgibt, von denen jede das Produkt der jeweiligen Stelle mit 1 oder 2 ist"
   ]
  },
  {
   "cell_type": "markdown",
   "id": "01924deb-bae9-4459-ab54-28e36d8f0cbe",
   "metadata": {},
   "source": [
    "## Hinweise zum Schreiben der Funktion\n",
    "\n",
    "1. Ein String kann als tuple oder list von Zeichen ge\"castet\" werden (z.B. list('wn_str')\n",
    "2. Ein Zeichen kann mit `int()` in eine Integerzahl gewandelt werden\n",
    "2. ein Tupel kann (wie ein String) mit Multiplikation vervielfältigt werden\n",
    "3. Die Länge des Ergebnisses eines zip wird durch die kürzeste Eingabe definiert"
   ]
  },
  {
   "cell_type": "code",
   "execution_count": 29,
   "id": "907e1db1-56a3-4d1a-83c3-7f0f73ce9f1b",
   "metadata": {},
   "outputs": [],
   "source": [
    "# \"Spielfeld\" zum interaktiven Ausprobieren\n"
   ]
  },
  {
   "cell_type": "code",
   "execution_count": 11,
   "id": "56edf474-1790-4cdf-a306-63e8de53ae1c",
   "metadata": {},
   "outputs": [],
   "source": [
    "# in Function zusammenfassen\n",
    "    fkt = [2,1,2,1,2,1,2,1,2,1,2]\n",
    "    wnr = []\n",
    "    for ch in wn_str:\n",
    "def stellenprodukte(wn_str):\n",
    "        wnr.append(int(ch))\n",
    "        \n",
    "    ergebnis = []\n",
    "    for lv in range(10):\n",
    "        ergebnis.append(fkt[lv] * wnr[lv])\n",
    "    return ergebnis"
   ]
  },
  {
   "cell_type": "code",
   "execution_count": 11,
   "id": "546cf72c-d8e7-4417-ae2f-1997ca4c62eb",
   "metadata": {},
   "outputs": [
    {
     "data": {
      "text/plain": [
       "[6, 1, 16, 0, 6, 7, 14, 9, 2, 5, 4]"
      ]
     },
     "execution_count": 11,
     "metadata": {},
     "output_type": "execute_result"
    }
   ],
   "source": [
    "# Ausprobieren\n",
    "wagnr = '31803779152'\n",
    "stellenprodukte2(wagnr)\n"
   ]
  },
  {
   "cell_type": "code",
   "execution_count": 8,
   "id": "d9c0fcc6-1a32-4e48-9ee9-ff1f81553438",
   "metadata": {},
   "outputs": [],
   "source": [
    "def stellenprodukte2(wn_str):\n",
    "    ziffern=[int(ch) for ch in wn_str]\n",
    "    fkt=6*(2,1)\n",
    "    ergebnis=[a*b for a,b in zip(ziffern, fkt)]\n",
    "    return ergebnis\n"
   ]
  },
  {
   "cell_type": "code",
   "execution_count": 9,
   "id": "86525a0e-2484-43bc-b6de-677d282c392f",
   "metadata": {},
   "outputs": [],
   "source": [
    "def stellenprodukte3(wn_str):\n",
    "    ziffern=[int(ch) for ch in wn_str]\n",
    "    fkt=6*(2,1)\n",
    "    ergebnis=[tpl[0]*tpl[1] for tpl in zip(ziffern, fkt)]\n",
    "    return ergebnis\n"
   ]
  },
  {
   "cell_type": "code",
   "execution_count": 7,
   "id": "9e743e4b-9826-4a83-ad84-812c65c62d9b",
   "metadata": {},
   "outputs": [
    {
     "ename": "NameError",
     "evalue": "name 'fkt' is not defined",
     "output_type": "error",
     "traceback": [
      "\u001b[0;31m---------------------------------------------------------------------------\u001b[0m",
      "\u001b[0;31mNameError\u001b[0m                                 Traceback (most recent call last)",
      "Cell \u001b[0;32mIn[7], line 1\u001b[0m\n\u001b[0;32m----> 1\u001b[0m \u001b[43mfkt\u001b[49m\n",
      "\u001b[0;31mNameError\u001b[0m: name 'fkt' is not defined"
     ]
    }
   ],
   "source": []
  },
  {
   "cell_type": "code",
   "execution_count": null,
   "id": "a40c7bd7-62f1-41ec-a4ec-bd69e944656e",
   "metadata": {},
   "outputs": [],
   "source": []
  }
 ],
 "metadata": {
  "kernelspec": {
   "display_name": "Python 3 (ipykernel)",
   "language": "python",
   "name": "python3"
  },
  "language_info": {
   "codemirror_mode": {
    "name": "ipython",
    "version": 3
   },
   "file_extension": ".py",
   "mimetype": "text/x-python",
   "name": "python",
   "nbconvert_exporter": "python",
   "pygments_lexer": "ipython3",
   "version": "3.10.8"
  }
 },
 "nbformat": 4,
 "nbformat_minor": 5
}
