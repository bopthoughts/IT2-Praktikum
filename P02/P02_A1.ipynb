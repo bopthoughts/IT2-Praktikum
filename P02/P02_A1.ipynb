{
 "cells": [
  {
   "cell_type": "markdown",
   "id": "d57f2ed0-58f4-40e0-b066-0d0d01934674",
   "metadata": {},
   "source": [
    "Praktikum 2 "
   ]
  },
  {
   "cell_type": "markdown",
   "id": "28990eb5-c833-4f49-98ee-7f49de1aeedb",
   "metadata": {},
   "source": [
    "# Praktikum Informationstechnik im Maschinenbau II\n",
    "## P02 - Textverarbeitung mit Python"
   ]
  },
  {
   "cell_type": "markdown",
   "id": "86ee92e9-32d5-47eb-9ff4-d7c87c88cee6",
   "metadata": {},
   "source": [
    "### Aufgabe 1 - Einlesen und Analysieren eines längeren Textes\n",
    "\n",
    "Lesen Sie die Textdatei `textprobe.txt` (Wikipedia Artikel zur Geschichte von Python) in eine Stringvariable `text` ein. Vergessen Sie nicht, die Datei nach dem Lesen wieder zu schließen. Geben Sie den Text aus und schauen Sie sich das Ergebnis an"
   ]
  },
  {
   "cell_type": "code",
   "execution_count": 14,
   "id": "88980c10-fabf-4cd1-955a-496feeb523bc",
   "metadata": {
    "tags": []
   },
   "outputs": [
    {
     "name": "stdout",
     "output_type": "stream",
     "text": [
      "History of Python\n",
      "\n",
      "The programming language Python was conceived in the late 1980s, and its implementation was started in December 1989 by Guido van Rossum at CWI in the Netherlands as a successor to ABC capable of exception handling and interfacing with the Amoeba operating system. Van Rossum is Python's principal author, and his continuing central role in deciding the direction of Python is reflected in the title given to him by the Python community, Benevolent Dictator for Life (BDFL). (However, Van Rossum stepped down as leader on July 12, 2018.). Python was named after the BBC TV show Monty Python's Flying Circus.\n",
      "\n",
      "Python 2.0 was released on October 16, 2000, with many major new features, including a cycle-detecting garbage collector (in addition to reference counting) for memory management and support for Unicode. However, the most important change was to the development process itself, with a shift to a more transparent and community-backed process.\n",
      "\n",
      "Python 3.0, a major, backwards-incompatible release, was released on December 3, 2008 after a long period of testing. Many of its major features have also been backported to the backwards-compatible, though now-unsupported, Python 2.6 and 2.7.\n",
      "\n",
      "Early history\n",
      "\n",
      "In February 1991, Van Rossum published the code (labeled version 0.9.0) to alt.sources. Already present at this stage in development were classes with inheritance, exception handling, functions, and the core datatypes of list, dict, str and so on. Also in this initial release was a module system borrowed from Modula-3; Van Rossum describes the module as \"one of Python's major programming units\". Python's exception model also resembles Modula-3's, with the addition of an else clause. In 1994 comp.lang.python, the primary discussion forum for Python, was formed, marking a milestone in the growth of Python's userbase.\n",
      "\n",
      "\n",
      "Nonetheless, Python 3.0 remained a multi-paradigm language. Coders could still follow object-oriented, structured, and functional programming paradigms, among others, but within such broad choices, the details were intended to be more obvious in Python 3.0 than they were in Python 2.x.\n",
      "\n",
      "Compatibility\n",
      "\n",
      "Python 3.0 broke backward compatibility, and much Python 2 code does not run unmodified on Python 3. Python's dynamic typing combined with the plans to change the semantics of certain methods of dictionaries, for example, made perfect mechanical translation from Python 2.x to Python 3.0 very difficult. A tool called \"2to3\" does the parts of translation that can be done automatically. At this, 2to3 appeared to be fairly successful, though an early review noted that there were aspects of translation that such a tool would never be able to handle. Prior to the roll-out of Python 3, projects requiring compatibility with both the 2.x and 3.x series were recommended to have one source (for the 2.x series), and produce releases for the Python 3.x platform using 2to3. Edits to the Python 3.x code were discouraged for so long as the code needed to run on Python 2.x. This is no longer recommended; as of 2012 the preferred approach was to create a single code base that can run under both Python 2 and 3 using compatibility modules.\n",
      "\n",
      "Features\n",
      "\n",
      "Some of the major changes included for Python 3.0 were:\n",
      "\n",
      "Changing print so that it is a built-in function, not a statement. This made it easier to change a module to use a different print function, as well as making the syntax more regular. In Python 2.6 and 2.7 print() is available as a builtin but is masked by the print statement syntax, which can be disabled by entering from __future__ import print_function at the top of the file\n",
      "Removal of the Python 2 input function, and the renaming of the raw_input function to input. Python 3's input function behaves like Python 2's raw_input function, in that the input is always returned as a string rather than being evaluated as an expression\n",
      "Moving reduce (but not map or filter) out of the built-in namespace and into functools (the rationale being code that uses reduce is less readable than code that uses a for loop and accumulator variable)\n",
      "Adding support for optional function annotations that can be used for informal type declarations or other purposes\n",
      "Unifying the str/unicode types, representing text, and introducing a separate immutable bytes type; and a mostly corresponding mutable bytearray type, both of which represent arrays of bytes\n",
      "Removing backward-compatibility features, including old-style classes, string exceptions, and implicit relative imports\n",
      "A change in integer division functionality: in Python 2, integer division always returns an integer. For example 5 / 2 is 2; whereas in Python 3, 5 / 2 is 2.5. (In both Python 2 – 2.2 onwards – and Python 3, a separate operator exists to provide the old behavior: 5 // 2 is 2)\n",
      "\n",
      "Subsequent releases in the Python 3.x series have included additional, substantial new features; all ongoing development of the language is done in the 3.x series.\n"
     ]
    }
   ],
   "source": [
    "# Öffnen der Datei, Auslesen, Schließen der Datei\n",
    "texta = open('textprobe.txt', 'r')\n",
    "text = texta.read()\n",
    "print(text)\n"
   ]
  },
  {
   "cell_type": "markdown",
   "id": "dbfb2416-0730-43ae-a8e0-0095e4d228d5",
   "metadata": {},
   "source": [
    "### Elementare Auswertungen\n",
    "\n",
    "Beantworten Sie folgende Fragen:\n",
    "\n",
    "1. Wie viele Zeichen umfasst der Text? Geben Sie die Zahl mittels eines f-Strings in der Form \"Die Anzahl Zeichen beträgt nnnn\" aus\n",
    "2. Wie viele Zeilen sind darin enthalten? Wie viele davon sind leer? Geben Sie das Ergebnis mit f-String aus"
   ]
  },
  {
   "cell_type": "code",
   "execution_count": 15,
   "id": "2fe1eb96-f3ca-4363-bf8b-adf9c8cf5c92",
   "metadata": {},
   "outputs": [
    {
     "data": {
      "text/plain": [
       "'Die Anzahl Zeichen beträgt 4972'"
      ]
     },
     "execution_count": 15,
     "metadata": {},
     "output_type": "execute_result"
    }
   ],
   "source": [
    "# Zählen aller Zeichen\n",
    "anz_char = len(text)\n",
    "f\"Die Anzahl Zeichen beträgt {anz_char}\"\n",
    "\n",
    "\n",
    "# Ausgabe als formatierten String\n"
   ]
  },
  {
   "cell_type": "code",
   "execution_count": 16,
   "id": "a5ef047f-5f4e-41ed-9e82-fd4bb825eb70",
   "metadata": {
    "tags": []
   },
   "outputs": [
    {
     "data": {
      "text/plain": [
       "['History of Python',\n",
       " '',\n",
       " \"The programming language Python was conceived in the late 1980s, and its implementation was started in December 1989 by Guido van Rossum at CWI in the Netherlands as a successor to ABC capable of exception handling and interfacing with the Amoeba operating system. Van Rossum is Python's principal author, and his continuing central role in deciding the direction of Python is reflected in the title given to him by the Python community, Benevolent Dictator for Life (BDFL). (However, Van Rossum stepped down as leader on July 12, 2018.). Python was named after the BBC TV show Monty Python's Flying Circus.\"]"
      ]
     },
     "execution_count": 16,
     "metadata": {},
     "output_type": "execute_result"
    }
   ],
   "source": [
    "# Zählen der Zeilen. Dazu wandlen wir den Text in eine liste von Strings. (Jede Zeile wird mit einem Steuerzeichen \\n beendet)\n",
    "text_lines = text.split('\\n')\n",
    "text_lines[:3]\n",
    "# Probeausgabe\n",
    "# text_lines"
   ]
  },
  {
   "cell_type": "code",
   "execution_count": 17,
   "id": "af4c36bc-48a9-4bc2-8b82-4bb39ced93b7",
   "metadata": {
    "tags": []
   },
   "outputs": [
    {
     "data": {
      "text/plain": [
       "'Die Anzahl leere Zeilen beträgt 13, Anzahl der Zeilen 32'"
      ]
     },
     "execution_count": 17,
     "metadata": {},
     "output_type": "execute_result"
    }
   ],
   "source": [
    "anz_text_lines = len(text_lines)\n",
    "anz_empty_lines = text_lines.count('')\n",
    "f\"Die Anzahl leere Zeilen beträgt {anz_empty_lines}, Anzahl der Zeilen {anz_text_lines}\"\n",
    "# Formatierte Ausgabe\n"
   ]
  },
  {
   "cell_type": "markdown",
   "id": "72582110-0ea3-4525-89dc-ddf3683b3fcb",
   "metadata": {},
   "source": [
    "Wir haben eine funktkionierende Lösung, dafür aber viele Zellen und viele Variablen gebraucht. \"Mergen\" Sie drei obigen Zellen (siehe bei P01_A1) und optimieren Sie den Programmcode, in dem Sie Zwischenvariablen eliminieren "
   ]
  },
  {
   "cell_type": "code",
   "execution_count": 18,
   "id": "29a26c60-4784-4d65-aa88-6bc470a4e686",
   "metadata": {},
   "outputs": [
    {
     "data": {
      "text/plain": [
       "'32, 13'"
      ]
     },
     "execution_count": 18,
     "metadata": {},
     "output_type": "execute_result"
    }
   ],
   "source": [
    "# Die ersten drei Zellen in eine einzige zusammengefasst und etwas kompakter formuliert\n",
    "\n",
    "f'{len(text_lines)}, {text_lines.count(\"\")}'"
   ]
  },
  {
   "cell_type": "markdown",
   "id": "83ef0416-b408-4d56-ab13-519ce5d5a539",
   "metadata": {},
   "source": [
    "### Speichern Sie den \"reinen\" Text ohne Leerzeilen und komplett in Kleinbuchstaben in einer neuen Datei `bereinigt.txt`\n",
    "\n",
    "\n",
    "1. Bereinigen Sie zunächst die Liste `text_lines` um Leerzeilen\n",
    "2. Erzeugen Sie eine neue Datei `bereinigt.txt` und schreiben Sie hinein"
   ]
  },
  {
   "cell_type": "markdown",
   "id": "f0a808de-7c6d-4897-9445-a226fff5cc66",
   "metadata": {},
   "source": [
    "Zum Löschen müssen Sie mittels einer Schleife die Zeilen des Textes durchgehen und diejenigen löschen, die leer sind `== ''`. Denken Sie daran, an geeigneter Stelle innerhalb des Codes mit `lower()` auf Kleinbuchstaben zu wechseln.\n",
    "\n",
    "Experimentieren Sie mit verschiedenen Herangehensweisen: \n",
    "- Löschen mit `.remove()` innerhalb der Schleife\n",
    "- Initialisieren einer neuen leeren Liste und Eintragen der nicht leeren Zeilen in die neue Liste\n",
    "- List Comprehension\n",
    "\n",
    "Sind die Ergebnisse identisch?"
   ]
  },
  {
   "cell_type": "code",
   "execution_count": 7,
   "id": "370a3376-e58e-4cec-a8d2-579fc8513e80",
   "metadata": {},
   "outputs": [
    {
     "data": {
      "text/plain": [
       "20"
      ]
     },
     "execution_count": 7,
     "metadata": {},
     "output_type": "execute_result"
    }
   ],
   "source": [
    "# Leerzeilen entfernen durch Löschen innerhalb der Schleife\n",
    "for line in text_lines:\n",
    "    if line == '':\n",
    "        text_lines.remove(line)\n",
    "\n",
    "# Formatierte Ausgabe der Anzahl der Nicht-Leer-Zeilen\n",
    "len(text_lines)"
   ]
  },
  {
   "cell_type": "code",
   "execution_count": 8,
   "id": "ba8fcb7e-8bd1-48cf-be4c-288265620cf4",
   "metadata": {},
   "outputs": [
    {
     "data": {
      "text/plain": [
       "19"
      ]
     },
     "execution_count": 8,
     "metadata": {},
     "output_type": "execute_result"
    }
   ],
   "source": [
    "text_lines = text.split('\\n')\n",
    "# Leerzeilen entfernen durch Übertragen in eine neue liste\n",
    "new_text_lines = []\n",
    "for line in text_lines:\n",
    "    if line != '':\n",
    "        new_text_lines.append(line.lower())\n",
    "\n",
    "# Formatierte Ausgabe der Anzahl der Nicht-Leer-Zeilen\n",
    "len(new_text_lines)"
   ]
  },
  {
   "cell_type": "code",
   "execution_count": 9,
   "id": "fdd9b9d4-b30f-4a7d-8b6a-7fe699e02e39",
   "metadata": {},
   "outputs": [
    {
     "data": {
      "text/plain": [
       "19"
      ]
     },
     "execution_count": 9,
     "metadata": {},
     "output_type": "execute_result"
    }
   ],
   "source": [
    "# Leerzeilen entfernen durch list comprehension\n",
    "text_lines = [line.lower() for line in text_lines if line != '']\n",
    "# Formatierte Ausgabe der Anzahl der Nicht-Leer-Zeilen\n",
    "len(text_lines)"
   ]
  },
  {
   "cell_type": "markdown",
   "id": "7c9d6a4a-f911-487e-99ae-af53748adb20",
   "metadata": {},
   "source": [
    "## Speichern in eine neue Textdatei\n",
    "\n",
    "Die Ergebnisdatei soll wieder eine Zeilenstruktur haben (an den Enden der Zeilen ist `\\n` einzufügen)\n",
    "\n",
    "Um sicherzustellen, dass die Datei am Ende geschlossen ist, verwenden wir einen Context-Manager"
   ]
  },
  {
   "cell_type": "code",
   "execution_count": 11,
   "id": "63be1049-230f-4512-b837-73e210385175",
   "metadata": {},
   "outputs": [
    {
     "data": {
      "text/plain": [
       "['history of python',\n",
       " \"the programming language python was conceived in the late 1980s, and its implementation was started in december 1989 by guido van rossum at cwi in the netherlands as a successor to abc capable of exception handling and interfacing with the amoeba operating system. van rossum is python's principal author, and his continuing central role in deciding the direction of python is reflected in the title given to him by the python community, benevolent dictator for life (bdfl). (however, van rossum stepped down as leader on july 12, 2018.). python was named after the bbc tv show monty python's flying circus.\",\n",
       " 'python 2.0 was released on october 16, 2000, with many major new features, including a cycle-detecting garbage collector (in addition to reference counting) for memory management and support for unicode. however, the most important change was to the development process itself, with a shift to a more transparent and community-backed process.',\n",
       " 'python 3.0, a major, backwards-incompatible release, was released on december 3, 2008 after a long period of testing. many of its major features have also been backported to the backwards-compatible, though now-unsupported, python 2.6 and 2.7.',\n",
       " 'early history']"
      ]
     },
     "execution_count": 11,
     "metadata": {},
     "output_type": "execute_result"
    }
   ],
   "source": [
    "# Speichern mit Zeilenstruktur. Wir benutzen einen Context-Manager, um sicherzustellen, dass die Datei danach auch geschlossen ist\n",
    "with open ('bereinigt.txt', 'w') as txt:\n",
    "    for line in text_lines:\n",
    "        txt.write(line + '\\n')\n",
    "\n",
    "text_lines[:5]"
   ]
  },
  {
   "cell_type": "code",
   "execution_count": null,
   "id": "ba3a7ee8-4536-4bae-940e-bc470d614ba1",
   "metadata": {},
   "outputs": [],
   "source": []
  },
  {
   "cell_type": "code",
   "execution_count": null,
   "id": "6c19fed7-fabe-4d74-a1b1-12ca81cbadcc",
   "metadata": {},
   "outputs": [],
   "source": []
  }
 ],
 "metadata": {
  "kernelspec": {
   "display_name": "Python 3 (ipykernel)",
   "language": "python",
   "name": "python3"
  },
  "language_info": {
   "codemirror_mode": {
    "name": "ipython",
    "version": 3
   },
   "file_extension": ".py",
   "mimetype": "text/x-python",
   "name": "python",
   "nbconvert_exporter": "python",
   "pygments_lexer": "ipython3",
   "version": "3.10.8"
  }
 },
 "nbformat": 4,
 "nbformat_minor": 5
}
