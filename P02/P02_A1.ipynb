{
 "cells": [
  {
   "cell_type": "markdown",
   "id": "d57f2ed0-58f4-40e0-b066-0d0d01934674",
   "metadata": {},
   "source": [
    "Praktikum 2 "
   ]
  },
  {
   "cell_type": "markdown",
   "id": "28990eb5-c833-4f49-98ee-7f49de1aeedb",
   "metadata": {},
   "source": [
    "# Praktikum Informationstechnik im Maschinenbau II\n",
    "## P02 - Textverarbeitung mit Python"
   ]
  },
  {
   "cell_type": "markdown",
   "id": "86ee92e9-32d5-47eb-9ff4-d7c87c88cee6",
   "metadata": {},
   "source": [
    "### Aufgabe 1 - Einlesen und Analysieren eines längeren Textes\n",
    "\n",
    "Lesen Sie die Textdatei `textprobe.txt` (Wikipedia Artikel zur Geschichte von Python) in eine Stringvariable `text` ein. Vergessen Sie nicht, die Datei nach dem Lesen wieder zu schließen. Geben Sie den Text aus und schauen Sie sich das Ergebnis an"
   ]
  },
  {
   "cell_type": "code",
   "execution_count": null,
   "id": "88980c10-fabf-4cd1-955a-496feeb523bc",
   "metadata": {},
   "outputs": [],
   "source": [
    "# Öffnen der Datei, Auslesen, Schließen der Datei\n",
    "\n"
   ]
  },
  {
   "cell_type": "markdown",
   "id": "dbfb2416-0730-43ae-a8e0-0095e4d228d5",
   "metadata": {},
   "source": [
    "### Elementare Auswertungen\n",
    "\n",
    "Beantworten Sie folgende Fragen:\n",
    "\n",
    "1. Wie viele Zeichen umfasst der Text? Geben Sie die Zahl mittels eines f-Strings in der Form \"Die Anzahl Zeichen beträgt nnnn\" aus\n",
    "2. Wie viele Zeilen sind darin enthalten? Wie viele davon sind leer? Geben Sie das Ergebnis mit f-String aus"
   ]
  },
  {
   "cell_type": "code",
   "execution_count": null,
   "id": "2fe1eb96-f3ca-4363-bf8b-adf9c8cf5c92",
   "metadata": {},
   "outputs": [],
   "source": [
    "# Zählen aller Zeichen\n",
    "anz_char = \n",
    "\n",
    "# Ausgabe als formatierten String\n"
   ]
  },
  {
   "cell_type": "code",
   "execution_count": 3,
   "id": "a5ef047f-5f4e-41ed-9e82-fd4bb825eb70",
   "metadata": {
    "tags": []
   },
   "outputs": [],
   "source": [
    "# Zählen der Zeilen. Dazu wandlen wir den Text in eine liste von Strings. (Jede Zeile wird mit einem Steuerzeichen \\n beendet)\n",
    "text_lines = \n",
    "\n",
    "# Probeausgabe\n",
    "# text_lines"
   ]
  },
  {
   "cell_type": "code",
   "execution_count": null,
   "id": "af4c36bc-48a9-4bc2-8b82-4bb39ced93b7",
   "metadata": {
    "tags": []
   },
   "outputs": [],
   "source": [
    "anz_text_lines = \n",
    "anz_empty_lines = \n",
    "\n",
    "# Formatierte Ausgabe\n"
   ]
  },
  {
   "cell_type": "markdown",
   "id": "72582110-0ea3-4525-89dc-ddf3683b3fcb",
   "metadata": {},
   "source": [
    "Wir haben eine funktkionierende Lösung, dafür aber viele Zellen und viele Variablen gebraucht. \"Mergen\" Sie drei obigen Zellen (siehe bei P01_A1) und optimieren Sie den Programmcode, in dem Sie Zwischenvariablen eliminieren "
   ]
  },
  {
   "cell_type": "code",
   "execution_count": 4,
   "id": "29a26c60-4784-4d65-aa88-6bc470a4e686",
   "metadata": {},
   "outputs": [],
   "source": [
    "# Die ersten drei Zellen in eine einzige zusammengefasst und etwas kompakter formuliert\n",
    "\n"
   ]
  },
  {
   "cell_type": "markdown",
   "id": "83ef0416-b408-4d56-ab13-519ce5d5a539",
   "metadata": {},
   "source": [
    "### Speichern Sie den \"reinen\" Text ohne Leerzeilen und komplett in Kleinbuchstaben in einer neuen Datei `bereinigt.txt`\n",
    "\n",
    "\n",
    "1. Bereinigen Sie zunächst die Liste `text_lines` um Leerzeilen\n",
    "2. Erzeugen Sie eine neue Datei `bereinigt.txt` und schreiben Sie hinein"
   ]
  },
  {
   "cell_type": "markdown",
   "id": "f0a808de-7c6d-4897-9445-a226fff5cc66",
   "metadata": {},
   "source": [
    "Zum Löschen müssen Sie mittels einer Schleife die Zeilen des Textes durchgehen und diejenigen löschen, die leer sind `== ''`. Denken Sie daran, an geeigneter Stelle innerhalb des Codes mit `lower()` auf Kleinbuchstaben zu wechseln.\n",
    "\n",
    "Experimentieren Sie mit verschiedenen Herangehensweisen: \n",
    "- Löschen mit `.remove()` innerhalb der Schleife\n",
    "- Initialisieren einer neuen leeren Liste und Eintragen der nicht leeren Zeilen in die neue Liste\n",
    "- List Comprehension\n",
    "\n",
    "Sind die Ergebnisse identisch?"
   ]
  },
  {
   "cell_type": "code",
   "execution_count": 5,
   "id": "370a3376-e58e-4cec-a8d2-579fc8513e80",
   "metadata": {},
   "outputs": [],
   "source": [
    "# Leerzeilen entfernen durch Löschen innerhalb der Schleife\n",
    "\n",
    "# Formatierte Ausgabe der Anzahl der Nicht-Leer-Zeilen"
   ]
  },
  {
   "cell_type": "code",
   "execution_count": 5,
   "id": "ba8fcb7e-8bd1-48cf-be4c-288265620cf4",
   "metadata": {},
   "outputs": [
    {
     "data": {
      "text/plain": [
       "19"
      ]
     },
     "execution_count": 5,
     "metadata": {},
     "output_type": "execute_result"
    }
   ],
   "source": [
    "# Leerzeilen entfernen durch Übertragen in eine neue liste\n",
    "new_text_lines = []\n",
    "\n",
    "# Formatierte Ausgabe der Anzahl der Nicht-Leer-Zeilen"
   ]
  },
  {
   "cell_type": "code",
   "execution_count": 6,
   "id": "fdd9b9d4-b30f-4a7d-8b6a-7fe699e02e39",
   "metadata": {},
   "outputs": [],
   "source": [
    "# Leerzeilen entfernen durch list comprehension\n",
    "\n",
    "# Formatierte Ausgabe der Anzahl der Nicht-Leer-Zeilen"
   ]
  },
  {
   "cell_type": "markdown",
   "id": "7c9d6a4a-f911-487e-99ae-af53748adb20",
   "metadata": {},
   "source": [
    "## Speichern in eine neue Textdatei\n",
    "\n",
    "Die Ergebnisdatei soll wieder eine Zeilenstruktur haben (an den Enden der Zeilen ist `\\n` einzufügen)\n",
    "\n",
    "Um sicherzustellen, dass die Datei am Ende geschlossen ist, verwenden wir einen Context-Manager"
   ]
  },
  {
   "cell_type": "code",
   "execution_count": 8,
   "id": "63be1049-230f-4512-b837-73e210385175",
   "metadata": {},
   "outputs": [],
   "source": [
    "# Speichern mit Zeilenstruktur. Wir benutzen einen Context-Manager, um sicherzustellen, dass die Datei danach auch geschlossen ist\n"
   ]
  }
 ],
 "metadata": {
  "kernelspec": {
   "display_name": "Python 3 (ipykernel)",
   "language": "python",
   "name": "python3"
  },
  "language_info": {
   "codemirror_mode": {
    "name": "ipython",
    "version": 3
   },
   "file_extension": ".py",
   "mimetype": "text/x-python",
   "name": "python",
   "nbconvert_exporter": "python",
   "pygments_lexer": "ipython3",
   "version": "3.10.8"
  }
 },
 "nbformat": 4,
 "nbformat_minor": 5
}
