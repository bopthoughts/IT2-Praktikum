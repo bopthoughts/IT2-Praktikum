{
 "cells": [
  {
   "cell_type": "markdown",
   "id": "28990eb5-c833-4f49-98ee-7f49de1aeedb",
   "metadata": {},
   "source": [
    "# Praktikum Informationstechnik im Maschinenbau II\n",
    "## P02 - Textverarbeitung mit Python"
   ]
  },
  {
   "cell_type": "markdown",
   "id": "86ee92e9-32d5-47eb-9ff4-d7c87c88cee6",
   "metadata": {},
   "source": [
    "## Aufgabe 2 - Fortgeschrittene Auswertungen\n",
    "\n",
    "Wir wollen wissen, welche 20 Worte in dem Text am häufigsten vorkommen. Diese Aufgabe bearbeiten wir in zwei Teilschritten\n",
    "\n",
    "1. Erzeugen einer Liste aller vorkommenden Worte\n",
    "2. Erzeugen eines Verzeichnisses der Häufigkeiten\n",
    "\n",
    "\n",
    "### Teil 1 Erzeugen einer Liste aller vorkommenden Worte\n",
    "\n",
    "1. Laden Sie `bereinigt.txt`. \n",
    "2. Eliminieren Sie mittels `.replace()` innerhalb einer Schleife Sonderzeichen un Ziffern im Text\n",
    "2. Zerlegen Sie unter Verwendung von `.split()` in eine Liste einzelner Worte. Ignorieren Sie Worte mit weniger als 5 Zeichen \n",
    "3. Bereinigen Sie Doubletten in der Liste"
   ]
  },
  {
   "cell_type": "code",
   "execution_count": null,
   "id": "cf5b2cea-40e2-4e6c-ac1e-1875549bf87f",
   "metadata": {},
   "outputs": [],
   "source": [
    "# Laden mit Context-Manager als lange str-Variable\n",
    "\n"
   ]
  },
  {
   "cell_type": "code",
   "execution_count": null,
   "id": "7c2eaebe-fffe-4b0b-94c5-6b038e696525",
   "metadata": {},
   "outputs": [],
   "source": [
    "# Eliminieren Sie mittels .replace() Sie Satz-/ Sonderzeichen und Ziffern\n",
    "\n",
    "# Liste der zu löschenden Zeichen als string\n",
    "eliminate = '0123456789()\"\\'.,;/_'\n",
    "\n",
    "# Löschen aller Vorkommen jedes Zeichens in Schleife\n"
   ]
  },
  {
   "cell_type": "code",
   "execution_count": null,
   "id": "d400a954-3931-4c06-8e42-568b1ca8e6b4",
   "metadata": {},
   "outputs": [],
   "source": [
    "# Zerlegen Sie mittels .split() in einzelne Worte\n",
    "worte = text.split()\n",
    "\n",
    "# Löschen Sie alle Worte, deren Länge kleiner gleich 4 ist\n",
    "\n",
    "\n"
   ]
  },
  {
   "cell_type": "code",
   "execution_count": null,
   "id": "0d0d7608-04da-4f27-8097-8c54865cd18c",
   "metadata": {},
   "outputs": [],
   "source": [
    "# Eliminieren Sie Doppelungen. Denken Sie vorher nach und überlegen Sie sich die kürzest mögliche Lösung OHNE Schleife\n",
    "\n"
   ]
  },
  {
   "cell_type": "markdown",
   "id": "5aab4178-baed-41fc-9b96-896f6aee476f",
   "metadata": {},
   "source": [
    "## Teil 2 Wortverzeichnis\n",
    "\n",
    "1. Erzeugen sie zunächst eine Liste von Tupeln. `[(Wort, Anzahl), (Wort, Anzahl), ... ]`\n",
    "    >Verwenden Sie `.count()` innerhalb einer `for`-Schleife über die Worte\n",
    "    \n",
    "2. Sortieren Sie die Liste nach dem 2. Tupelelement (Anzahl)\n",
    "    > Benutzen Sie dazu den bereitgestellten Programmcode\n",
    "3. Wandeln Sie die TOP 20 aus der Tupelliste in ein Dicitonary und geben dieses aus"
   ]
  },
  {
   "cell_type": "code",
   "execution_count": null,
   "id": "c75b9b16-bdf1-4c41-b480-ce5450d6d4b5",
   "metadata": {},
   "outputs": [],
   "source": [
    "# Legen Sie eine Liste von Tupeln (wort, anzahl) an.\n",
    "tuple_list = []\n",
    "for \n",
    "\n",
    "\n",
    "# Ausgabe der ersten Elemente der Tupelliste zur Kontrolle\n"
   ]
  },
  {
   "cell_type": "code",
   "execution_count": null,
   "id": "10587c5b-171c-496b-abc5-0daba0d0ad1a",
   "metadata": {},
   "outputs": [],
   "source": [
    "# Sortieren Sie mittels sorted(... key=...) absteigend nach den Häufigkeiten \n",
    "tuple_list = sorted(tuple_list, key=lambda a: a[1], reverse=True)\n",
    "\n",
    "# Ausgabe der ersten Elemente der Tupelliste zur Kontrolle\n"
   ]
  },
  {
   "cell_type": "code",
   "execution_count": null,
   "id": "29485152-1f71-4483-9075-67db7cc29f8b",
   "metadata": {},
   "outputs": [],
   "source": [
    "# Umwandeln der ersten 20 Elemente von tuple_list in eine Dictionary\n"
   ]
  },
  {
   "cell_type": "code",
   "execution_count": null,
   "id": "29afd01d-f9da-4753-9d67-44fa2e6ab737",
   "metadata": {},
   "outputs": [],
   "source": [
    "# Tabellarische Ausgabe des Verzeichnisses mittels formatierter Ausgabe innerhalb einer Schleife\n",
    "header = 'Die Top 20 der häufigsten Worte'\n",
    "\n",
    "\n",
    "\n"
   ]
  }
 ],
 "metadata": {
  "kernelspec": {
   "display_name": "Python 3 (ipykernel)",
   "language": "python",
   "name": "python3"
  },
  "language_info": {
   "codemirror_mode": {
    "name": "ipython",
    "version": 3
   },
   "file_extension": ".py",
   "mimetype": "text/x-python",
   "name": "python",
   "nbconvert_exporter": "python",
   "pygments_lexer": "ipython3",
   "version": "3.10.8"
  }
 },
 "nbformat": 4,
 "nbformat_minor": 5
}
