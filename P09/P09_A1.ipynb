{
 "cells": [
  {
   "cell_type": "markdown",
   "id": "6023fff3-06dc-422e-82e8-9e6bfed1ca2a",
   "metadata": {},
   "source": [
    "# Praktikum Informationstechnik im Maschinenbau II\n",
    "## P09 - Daten einlesen, zusammenführen und analysieren mit Pandas"
   ]
  },
  {
   "cell_type": "markdown",
   "id": "86f120b0-5c1b-4ca5-9615-657162757b85",
   "metadata": {},
   "source": [
    "# Analyse von GPS Daten\n",
    "\n",
    "In dieser Aufgabe importieren wir eine Exceltabelle mit GPS-Messdaten und analysieren den Messfehler. \n",
    "\n",
    "Die Arbeitsschritte:\n",
    "1. Laden der Exceltabelle. Ein Arbeitblatt enthält die Rohdaten mit Zeitstempel, ein anderes Arbeitsblatt enthält die gemessenen Fehler in Länge und Breite jeweils in Meter\n",
    "2. Prüfen der beiden Arbeitblätter auf Kompatibilität zueinander\n",
    "3. Zusammenführen in ein gemeinsames `pandas.DataFrame`\n",
    "4. Prüfen der Positionsfehler auf Mittelwert=0, ggf. Korrektur\n",
    "5. Berechnen der Messabweichung (euklidischer Abstand zwischen gemessener und echter Position). Angabe eines Werts für die Messabweichung, die in 95% der Fälle nicht überschritten wird (95%-Quantil)\n",
    "6. Darstellung der Messabweichung über der Zeit, Darstellung der GPS-Fehler als scatter-Plot\n",
    "\n",
    "## Ergebnis: Scatter Plot\n",
    "\n",
    "![result.png](result.png)\n",
    "\n",
    "## Bonus (nicht Bestandteil der Aufgabe): GPS-Daten auf einer Höhenkarte\n",
    "\n",
    "![hoehen.png](hoehen.png)\n"
   ]
  },
  {
   "cell_type": "code",
   "execution_count": 37,
   "id": "a4898449-0111-45d0-ae61-c8e7a0113668",
   "metadata": {},
   "outputs": [],
   "source": [
    "# Importieren\n",
    "import pandas as pd\n",
    "import numpy as np\n",
    "import matplotlib.pyplot as plt"
   ]
  },
  {
   "cell_type": "markdown",
   "id": "b933084e-6983-4880-a38b-52dcb31c944d",
   "metadata": {},
   "source": [
    "### Arbeitsschritt 1\n",
    "- Laden Sie die beiden in der Excel-Datei `data/GPS_data.xls`. enthaltenden Arbeitsblätter in DataFrames `df_raw` und `df_analysis`. \n",
    "- Geben Sie die Strukturen und die Datentypen der DataFrames mit `.info()` aus.\n",
    "- Überlegen Sie sich eine Strategie, wie Sie ein DataFrame erzeugen können, das alle Spalten enthält.\n",
    "- Schauen Sie sich in den Daten um"
   ]
  },
  {
   "cell_type": "code",
   "execution_count": 2,
   "id": "92985c47-09ea-4bed-9736-c668a9094ead",
   "metadata": {},
   "outputs": [
    {
     "data": {
      "text/plain": [
       "{'px4_raw':       Header_secs   Latitude  Longitude\n",
       " 0      1602156874  50.761040   6.074403\n",
       " 1      1602156875  50.761039   6.074403\n",
       " 2      1602156877  50.761039   6.074402\n",
       " 3      1602156878  50.761039   6.074401\n",
       " 4      1602156879  50.761040   6.074400\n",
       " ...           ...        ...        ...\n",
       " 3994   1602161301  50.761018   6.074467\n",
       " 3995   1602161303  50.761018   6.074467\n",
       " 3996   1602161304  50.761018   6.074467\n",
       " 3997   1602161305  50.761018   6.074467\n",
       " 3998   1602161306  50.761018   6.074467\n",
       " \n",
       " [3999 rows x 3 columns],\n",
       " 'px4_analysis':        Latitude  Longitude       lat    dx (m)    dy (m)\n",
       " 0     50.761040   6.074403  0.885947  3.350206 -0.457228\n",
       " 1     50.761039   6.074403  0.885947  3.392383 -0.435002\n",
       " 2     50.761039   6.074402  0.885947  3.441590 -0.435002\n",
       " 3     50.761039   6.074401  0.885947  3.497827 -0.435002\n",
       " 4     50.761040   6.074400  0.885947  3.554064 -0.446115\n",
       " ...         ...        ...       ...       ...       ...\n",
       " 3994  50.761018   6.074467  0.885947 -1.120618  1.976519\n",
       " 3995  50.761018   6.074467  0.885947 -1.134677  1.987632\n",
       " 3996  50.761018   6.074467  0.885947 -1.127648  1.987632\n",
       " 3997  50.761018   6.074467  0.885947 -1.148736  1.998745\n",
       " 3998  50.761018   6.074467  0.885947 -1.155766  1.998745\n",
       " \n",
       " [3999 rows x 5 columns]}"
      ]
     },
     "execution_count": 2,
     "metadata": {},
     "output_type": "execute_result"
    }
   ],
   "source": [
    "# Laden von GPS_data.xls, Ausgeben der Arbeitsblattnamen\n",
    "gps = pd.read_excel('GPS_data.xls', sheet_name=None)\n",
    "gps"
   ]
  },
  {
   "cell_type": "code",
   "execution_count": 3,
   "id": "ea8fa6a2-b044-45fd-b5b4-679d98fa7dc8",
   "metadata": {},
   "outputs": [
    {
     "name": "stdout",
     "output_type": "stream",
     "text": [
      "<class 'pandas.core.frame.DataFrame'>\n",
      "RangeIndex: 3999 entries, 0 to 3998\n",
      "Data columns (total 3 columns):\n",
      " #   Column       Non-Null Count  Dtype  \n",
      "---  ------       --------------  -----  \n",
      " 0   Header_secs  3999 non-null   int64  \n",
      " 1   Latitude     3999 non-null   float64\n",
      " 2   Longitude    3999 non-null   float64\n",
      "dtypes: float64(2), int64(1)\n",
      "memory usage: 93.9 KB\n"
     ]
    }
   ],
   "source": [
    "# Zuweisen des Dataframe df_raw, Ausgabe zusammenfassender Informationen\n",
    "df_raw = gps['px4_raw']\n",
    "df_raw.info()"
   ]
  },
  {
   "cell_type": "code",
   "execution_count": 4,
   "id": "cfd019a3-be1a-463f-b608-5ac6fa97bc4d",
   "metadata": {},
   "outputs": [
    {
     "name": "stdout",
     "output_type": "stream",
     "text": [
      "<class 'pandas.core.frame.DataFrame'>\n",
      "RangeIndex: 3999 entries, 0 to 3998\n",
      "Data columns (total 5 columns):\n",
      " #   Column     Non-Null Count  Dtype  \n",
      "---  ------     --------------  -----  \n",
      " 0   Latitude   3999 non-null   float64\n",
      " 1   Longitude  3999 non-null   float64\n",
      " 2   lat        3999 non-null   float64\n",
      " 3   dx (m)     3999 non-null   float64\n",
      " 4   dy (m)     3999 non-null   float64\n",
      "dtypes: float64(5)\n",
      "memory usage: 156.3 KB\n"
     ]
    }
   ],
   "source": [
    "# Zuweisen des Dataframe df_analysis, Ausgabe zusammenfassender Informationen\n",
    "df_analysis = gps['px4_analysis']\n",
    "df_analysis.info()"
   ]
  },
  {
   "cell_type": "code",
   "execution_count": 5,
   "id": "b7f68ec2-8aa3-408d-a287-81e8cff79571",
   "metadata": {},
   "outputs": [
    {
     "data": {
      "text/html": [
       "<div>\n",
       "<style scoped>\n",
       "    .dataframe tbody tr th:only-of-type {\n",
       "        vertical-align: middle;\n",
       "    }\n",
       "\n",
       "    .dataframe tbody tr th {\n",
       "        vertical-align: top;\n",
       "    }\n",
       "\n",
       "    .dataframe thead th {\n",
       "        text-align: right;\n",
       "    }\n",
       "</style>\n",
       "<table border=\"1\" class=\"dataframe\">\n",
       "  <thead>\n",
       "    <tr style=\"text-align: right;\">\n",
       "      <th></th>\n",
       "      <th>Header_secs</th>\n",
       "      <th>Latitude</th>\n",
       "      <th>Longitude</th>\n",
       "    </tr>\n",
       "  </thead>\n",
       "  <tbody>\n",
       "    <tr>\n",
       "      <th>663</th>\n",
       "      <td>1602157610</td>\n",
       "      <td>50.761055</td>\n",
       "      <td>6.074396</td>\n",
       "    </tr>\n",
       "    <tr>\n",
       "      <th>1293</th>\n",
       "      <td>1602158306</td>\n",
       "      <td>50.761021</td>\n",
       "      <td>6.074445</td>\n",
       "    </tr>\n",
       "    <tr>\n",
       "      <th>3438</th>\n",
       "      <td>1602160686</td>\n",
       "      <td>50.761039</td>\n",
       "      <td>6.074455</td>\n",
       "    </tr>\n",
       "    <tr>\n",
       "      <th>3441</th>\n",
       "      <td>1602160689</td>\n",
       "      <td>50.761038</td>\n",
       "      <td>6.074454</td>\n",
       "    </tr>\n",
       "    <tr>\n",
       "      <th>787</th>\n",
       "      <td>1602157747</td>\n",
       "      <td>50.761074</td>\n",
       "      <td>6.074412</td>\n",
       "    </tr>\n",
       "    <tr>\n",
       "      <th>3324</th>\n",
       "      <td>1602160560</td>\n",
       "      <td>50.761036</td>\n",
       "      <td>6.074459</td>\n",
       "    </tr>\n",
       "    <tr>\n",
       "      <th>1302</th>\n",
       "      <td>1602158316</td>\n",
       "      <td>50.761019</td>\n",
       "      <td>6.074447</td>\n",
       "    </tr>\n",
       "    <tr>\n",
       "      <th>2159</th>\n",
       "      <td>1602159264</td>\n",
       "      <td>50.761038</td>\n",
       "      <td>6.074454</td>\n",
       "    </tr>\n",
       "    <tr>\n",
       "      <th>2687</th>\n",
       "      <td>1602159852</td>\n",
       "      <td>50.761037</td>\n",
       "      <td>6.074448</td>\n",
       "    </tr>\n",
       "    <tr>\n",
       "      <th>2463</th>\n",
       "      <td>1602159604</td>\n",
       "      <td>50.761049</td>\n",
       "      <td>6.074442</td>\n",
       "    </tr>\n",
       "  </tbody>\n",
       "</table>\n",
       "</div>"
      ],
      "text/plain": [
       "      Header_secs   Latitude  Longitude\n",
       "663    1602157610  50.761055   6.074396\n",
       "1293   1602158306  50.761021   6.074445\n",
       "3438   1602160686  50.761039   6.074455\n",
       "3441   1602160689  50.761038   6.074454\n",
       "787    1602157747  50.761074   6.074412\n",
       "3324   1602160560  50.761036   6.074459\n",
       "1302   1602158316  50.761019   6.074447\n",
       "2159   1602159264  50.761038   6.074454\n",
       "2687   1602159852  50.761037   6.074448\n",
       "2463   1602159604  50.761049   6.074442"
      ]
     },
     "execution_count": 5,
     "metadata": {},
     "output_type": "execute_result"
    }
   ],
   "source": [
    "# Umschauen in den Dataframes, Anfang und Ende\n",
    "df_raw.sample(10)"
   ]
  },
  {
   "cell_type": "code",
   "execution_count": 6,
   "id": "76060fbd-ad26-43c3-81b4-12c990ad21a8",
   "metadata": {},
   "outputs": [
    {
     "data": {
      "text/html": [
       "<div>\n",
       "<style scoped>\n",
       "    .dataframe tbody tr th:only-of-type {\n",
       "        vertical-align: middle;\n",
       "    }\n",
       "\n",
       "    .dataframe tbody tr th {\n",
       "        vertical-align: top;\n",
       "    }\n",
       "\n",
       "    .dataframe thead th {\n",
       "        text-align: right;\n",
       "    }\n",
       "</style>\n",
       "<table border=\"1\" class=\"dataframe\">\n",
       "  <thead>\n",
       "    <tr style=\"text-align: right;\">\n",
       "      <th></th>\n",
       "      <th>Latitude</th>\n",
       "      <th>Longitude</th>\n",
       "      <th>lat</th>\n",
       "      <th>dx (m)</th>\n",
       "      <th>dy (m)</th>\n",
       "    </tr>\n",
       "  </thead>\n",
       "  <tbody>\n",
       "    <tr>\n",
       "      <th>558</th>\n",
       "      <td>50.761033</td>\n",
       "      <td>6.074403</td>\n",
       "      <td>0.885947</td>\n",
       "      <td>3.336147</td>\n",
       "      <td>0.298456</td>\n",
       "    </tr>\n",
       "    <tr>\n",
       "      <th>1142</th>\n",
       "      <td>50.761059</td>\n",
       "      <td>6.074446</td>\n",
       "      <td>0.885947</td>\n",
       "      <td>0.362627</td>\n",
       "      <td>-2.613150</td>\n",
       "    </tr>\n",
       "    <tr>\n",
       "      <th>1650</th>\n",
       "      <td>50.761040</td>\n",
       "      <td>6.074457</td>\n",
       "      <td>0.885947</td>\n",
       "      <td>-0.396569</td>\n",
       "      <td>-0.512793</td>\n",
       "    </tr>\n",
       "    <tr>\n",
       "      <th>1850</th>\n",
       "      <td>50.761033</td>\n",
       "      <td>6.074442</td>\n",
       "      <td>0.885947</td>\n",
       "      <td>0.636781</td>\n",
       "      <td>0.242891</td>\n",
       "    </tr>\n",
       "    <tr>\n",
       "      <th>2173</th>\n",
       "      <td>50.761037</td>\n",
       "      <td>6.074456</td>\n",
       "      <td>0.885947</td>\n",
       "      <td>-0.368451</td>\n",
       "      <td>-0.190516</td>\n",
       "    </tr>\n",
       "    <tr>\n",
       "      <th>1706</th>\n",
       "      <td>50.761030</td>\n",
       "      <td>6.074448</td>\n",
       "      <td>0.885947</td>\n",
       "      <td>0.165798</td>\n",
       "      <td>0.631846</td>\n",
       "    </tr>\n",
       "    <tr>\n",
       "      <th>3320</th>\n",
       "      <td>50.761037</td>\n",
       "      <td>6.074458</td>\n",
       "      <td>0.885947</td>\n",
       "      <td>-0.516072</td>\n",
       "      <td>-0.112725</td>\n",
       "    </tr>\n",
       "    <tr>\n",
       "      <th>3011</th>\n",
       "      <td>50.761031</td>\n",
       "      <td>6.074445</td>\n",
       "      <td>0.885947</td>\n",
       "      <td>0.390746</td>\n",
       "      <td>0.498490</td>\n",
       "    </tr>\n",
       "    <tr>\n",
       "      <th>3776</th>\n",
       "      <td>50.761017</td>\n",
       "      <td>6.074454</td>\n",
       "      <td>0.885947</td>\n",
       "      <td>-0.255977</td>\n",
       "      <td>2.043197</td>\n",
       "    </tr>\n",
       "    <tr>\n",
       "      <th>3283</th>\n",
       "      <td>50.761037</td>\n",
       "      <td>6.074460</td>\n",
       "      <td>0.885947</td>\n",
       "      <td>-0.670724</td>\n",
       "      <td>-0.201629</td>\n",
       "    </tr>\n",
       "  </tbody>\n",
       "</table>\n",
       "</div>"
      ],
      "text/plain": [
       "       Latitude  Longitude       lat    dx (m)    dy (m)\n",
       "558   50.761033   6.074403  0.885947  3.336147  0.298456\n",
       "1142  50.761059   6.074446  0.885947  0.362627 -2.613150\n",
       "1650  50.761040   6.074457  0.885947 -0.396569 -0.512793\n",
       "1850  50.761033   6.074442  0.885947  0.636781  0.242891\n",
       "2173  50.761037   6.074456  0.885947 -0.368451 -0.190516\n",
       "1706  50.761030   6.074448  0.885947  0.165798  0.631846\n",
       "3320  50.761037   6.074458  0.885947 -0.516072 -0.112725\n",
       "3011  50.761031   6.074445  0.885947  0.390746  0.498490\n",
       "3776  50.761017   6.074454  0.885947 -0.255977  2.043197\n",
       "3283  50.761037   6.074460  0.885947 -0.670724 -0.201629"
      ]
     },
     "execution_count": 6,
     "metadata": {},
     "output_type": "execute_result"
    }
   ],
   "source": [
    "df_analysis.sample(10)"
   ]
  },
  {
   "cell_type": "markdown",
   "id": "2fc15e00-ee14-4676-a2b7-a2ab247e0dd0",
   "metadata": {},
   "source": [
    "### Arbeitsschritt 2 \n",
    "\n",
    "Vorbereitung zum Merge der beiden Tabellen entsprechend Ihrer Strategie"
   ]
  },
  {
   "cell_type": "code",
   "execution_count": 7,
   "id": "f167e8a1-e41b-4c45-8a0e-b6b23890e400",
   "metadata": {},
   "outputs": [
    {
     "data": {
      "text/plain": [
       "True"
      ]
     },
     "execution_count": 7,
     "metadata": {},
     "output_type": "execute_result"
    }
   ],
   "source": [
    "np.isclose(df_raw.Longitude,df_analysis.Longitude).all()"
   ]
  },
  {
   "cell_type": "code",
   "execution_count": 8,
   "id": "768de39a-dad4-4636-88d2-ba3d5cc2c5a1",
   "metadata": {},
   "outputs": [
    {
     "data": {
      "text/plain": [
       "False"
      ]
     },
     "execution_count": 8,
     "metadata": {},
     "output_type": "execute_result"
    }
   ],
   "source": [
    "np.isclose(df_raw.Longitude,df_analysis.Latitude).all()"
   ]
  },
  {
   "cell_type": "markdown",
   "id": "cada7484-a5b9-4cc3-b193-70def27f1cab",
   "metadata": {},
   "source": [
    "### Arbeitsschritt 3\n",
    "\n",
    "Merging und Bereinigen\n",
    "\n",
    "- Beide Dataframes nach Ihrer gewählten Strategie zusammenführen\n",
    "- Die Spalte `Header_secs` mittels `pd.to_datetime()`in DateTime-Objekte überführen und diese mit `.set_index()` als neuen Index nutzen\n",
    "- Aus dem resultieren DataFrame per `.drop()` überflüssige Spalten-Duplikate löschen\n",
    "- Die Spalte `lat` löschen\n",
    "- Namen der Spalten mit `.rename()` so bereinigen, dass man die Objekt-Schreibweise (`dataframe.spalte` statt `dataframe['spalte']`) nutzen kann"
   ]
  },
  {
   "cell_type": "code",
   "execution_count": 9,
   "id": "ce75a897-3779-4d7a-b329-63ad8f5482ea",
   "metadata": {},
   "outputs": [
    {
     "data": {
      "text/html": [
       "<div>\n",
       "<style scoped>\n",
       "    .dataframe tbody tr th:only-of-type {\n",
       "        vertical-align: middle;\n",
       "    }\n",
       "\n",
       "    .dataframe tbody tr th {\n",
       "        vertical-align: top;\n",
       "    }\n",
       "\n",
       "    .dataframe thead th {\n",
       "        text-align: right;\n",
       "    }\n",
       "</style>\n",
       "<table border=\"1\" class=\"dataframe\">\n",
       "  <thead>\n",
       "    <tr style=\"text-align: right;\">\n",
       "      <th></th>\n",
       "      <th>Header_secs</th>\n",
       "      <th>Latitude_x</th>\n",
       "      <th>Longitude_x</th>\n",
       "      <th>Latitude_y</th>\n",
       "      <th>Longitude_y</th>\n",
       "      <th>lat</th>\n",
       "      <th>dx (m)</th>\n",
       "      <th>dy (m)</th>\n",
       "    </tr>\n",
       "  </thead>\n",
       "  <tbody>\n",
       "    <tr>\n",
       "      <th>0</th>\n",
       "      <td>1602156874</td>\n",
       "      <td>50.761040</td>\n",
       "      <td>6.074403</td>\n",
       "      <td>50.761040</td>\n",
       "      <td>6.074403</td>\n",
       "      <td>0.885947</td>\n",
       "      <td>3.350206</td>\n",
       "      <td>-0.457228</td>\n",
       "    </tr>\n",
       "    <tr>\n",
       "      <th>1</th>\n",
       "      <td>1602156875</td>\n",
       "      <td>50.761039</td>\n",
       "      <td>6.074403</td>\n",
       "      <td>50.761039</td>\n",
       "      <td>6.074403</td>\n",
       "      <td>0.885947</td>\n",
       "      <td>3.392383</td>\n",
       "      <td>-0.435002</td>\n",
       "    </tr>\n",
       "    <tr>\n",
       "      <th>2</th>\n",
       "      <td>1602156877</td>\n",
       "      <td>50.761039</td>\n",
       "      <td>6.074402</td>\n",
       "      <td>50.761039</td>\n",
       "      <td>6.074402</td>\n",
       "      <td>0.885947</td>\n",
       "      <td>3.441590</td>\n",
       "      <td>-0.435002</td>\n",
       "    </tr>\n",
       "    <tr>\n",
       "      <th>3</th>\n",
       "      <td>1602156878</td>\n",
       "      <td>50.761039</td>\n",
       "      <td>6.074401</td>\n",
       "      <td>50.761039</td>\n",
       "      <td>6.074401</td>\n",
       "      <td>0.885947</td>\n",
       "      <td>3.497827</td>\n",
       "      <td>-0.435002</td>\n",
       "    </tr>\n",
       "    <tr>\n",
       "      <th>4</th>\n",
       "      <td>1602156879</td>\n",
       "      <td>50.761040</td>\n",
       "      <td>6.074400</td>\n",
       "      <td>50.761040</td>\n",
       "      <td>6.074400</td>\n",
       "      <td>0.885947</td>\n",
       "      <td>3.554064</td>\n",
       "      <td>-0.446115</td>\n",
       "    </tr>\n",
       "    <tr>\n",
       "      <th>...</th>\n",
       "      <td>...</td>\n",
       "      <td>...</td>\n",
       "      <td>...</td>\n",
       "      <td>...</td>\n",
       "      <td>...</td>\n",
       "      <td>...</td>\n",
       "      <td>...</td>\n",
       "      <td>...</td>\n",
       "    </tr>\n",
       "    <tr>\n",
       "      <th>3994</th>\n",
       "      <td>1602161301</td>\n",
       "      <td>50.761018</td>\n",
       "      <td>6.074467</td>\n",
       "      <td>50.761018</td>\n",
       "      <td>6.074467</td>\n",
       "      <td>0.885947</td>\n",
       "      <td>-1.120618</td>\n",
       "      <td>1.976519</td>\n",
       "    </tr>\n",
       "    <tr>\n",
       "      <th>3995</th>\n",
       "      <td>1602161303</td>\n",
       "      <td>50.761018</td>\n",
       "      <td>6.074467</td>\n",
       "      <td>50.761018</td>\n",
       "      <td>6.074467</td>\n",
       "      <td>0.885947</td>\n",
       "      <td>-1.134677</td>\n",
       "      <td>1.987632</td>\n",
       "    </tr>\n",
       "    <tr>\n",
       "      <th>3996</th>\n",
       "      <td>1602161304</td>\n",
       "      <td>50.761018</td>\n",
       "      <td>6.074467</td>\n",
       "      <td>50.761018</td>\n",
       "      <td>6.074467</td>\n",
       "      <td>0.885947</td>\n",
       "      <td>-1.127648</td>\n",
       "      <td>1.987632</td>\n",
       "    </tr>\n",
       "    <tr>\n",
       "      <th>3997</th>\n",
       "      <td>1602161305</td>\n",
       "      <td>50.761018</td>\n",
       "      <td>6.074467</td>\n",
       "      <td>50.761018</td>\n",
       "      <td>6.074467</td>\n",
       "      <td>0.885947</td>\n",
       "      <td>-1.148736</td>\n",
       "      <td>1.998745</td>\n",
       "    </tr>\n",
       "    <tr>\n",
       "      <th>3998</th>\n",
       "      <td>1602161306</td>\n",
       "      <td>50.761018</td>\n",
       "      <td>6.074467</td>\n",
       "      <td>50.761018</td>\n",
       "      <td>6.074467</td>\n",
       "      <td>0.885947</td>\n",
       "      <td>-1.155766</td>\n",
       "      <td>1.998745</td>\n",
       "    </tr>\n",
       "  </tbody>\n",
       "</table>\n",
       "<p>3999 rows × 8 columns</p>\n",
       "</div>"
      ],
      "text/plain": [
       "      Header_secs  Latitude_x  Longitude_x  Latitude_y  Longitude_y       lat  \\\n",
       "0      1602156874   50.761040     6.074403   50.761040     6.074403  0.885947   \n",
       "1      1602156875   50.761039     6.074403   50.761039     6.074403  0.885947   \n",
       "2      1602156877   50.761039     6.074402   50.761039     6.074402  0.885947   \n",
       "3      1602156878   50.761039     6.074401   50.761039     6.074401  0.885947   \n",
       "4      1602156879   50.761040     6.074400   50.761040     6.074400  0.885947   \n",
       "...           ...         ...          ...         ...          ...       ...   \n",
       "3994   1602161301   50.761018     6.074467   50.761018     6.074467  0.885947   \n",
       "3995   1602161303   50.761018     6.074467   50.761018     6.074467  0.885947   \n",
       "3996   1602161304   50.761018     6.074467   50.761018     6.074467  0.885947   \n",
       "3997   1602161305   50.761018     6.074467   50.761018     6.074467  0.885947   \n",
       "3998   1602161306   50.761018     6.074467   50.761018     6.074467  0.885947   \n",
       "\n",
       "        dx (m)    dy (m)  \n",
       "0     3.350206 -0.457228  \n",
       "1     3.392383 -0.435002  \n",
       "2     3.441590 -0.435002  \n",
       "3     3.497827 -0.435002  \n",
       "4     3.554064 -0.446115  \n",
       "...        ...       ...  \n",
       "3994 -1.120618  1.976519  \n",
       "3995 -1.134677  1.987632  \n",
       "3996 -1.127648  1.987632  \n",
       "3997 -1.148736  1.998745  \n",
       "3998 -1.155766  1.998745  \n",
       "\n",
       "[3999 rows x 8 columns]"
      ]
     },
     "execution_count": 9,
     "metadata": {},
     "output_type": "execute_result"
    }
   ],
   "source": [
    "# Zusammenführen mit merge anhand der Indizes\n",
    "df_gps = df_raw.merge(df_analysis, left_index=True, right_index=True)\n",
    "df_gps"
   ]
  },
  {
   "cell_type": "code",
   "execution_count": 10,
   "id": "13ccacde-e50f-46d4-941d-47e3035aeca3",
   "metadata": {},
   "outputs": [
    {
     "name": "stdout",
     "output_type": "stream",
     "text": [
      "<class 'pandas.core.frame.DataFrame'>\n",
      "DatetimeIndex: 3999 entries, 2020-10-08 11:34:34 to 2020-10-08 12:48:26\n",
      "Data columns (total 7 columns):\n",
      " #   Column       Non-Null Count  Dtype  \n",
      "---  ------       --------------  -----  \n",
      " 0   Latitude_x   3999 non-null   float64\n",
      " 1   Longitude_x  3999 non-null   float64\n",
      " 2   Latitude_y   3999 non-null   float64\n",
      " 3   Longitude_y  3999 non-null   float64\n",
      " 4   lat          3999 non-null   float64\n",
      " 5   dx (m)       3999 non-null   float64\n",
      " 6   dy (m)       3999 non-null   float64\n",
      "dtypes: float64(7)\n",
      "memory usage: 249.9 KB\n"
     ]
    }
   ],
   "source": [
    "df_gps.Header_secs = pd.to_datetime(df_gps.Header_secs, unit='s')\n",
    "df_gps = df_gps.set_index(\"Header_secs\")\n",
    "df_gps.info()"
   ]
  },
  {
   "cell_type": "code",
   "execution_count": 11,
   "id": "c045c0e2-9075-4816-a3d6-012bf3ca4a97",
   "metadata": {},
   "outputs": [
    {
     "data": {
      "text/html": [
       "<div>\n",
       "<style scoped>\n",
       "    .dataframe tbody tr th:only-of-type {\n",
       "        vertical-align: middle;\n",
       "    }\n",
       "\n",
       "    .dataframe tbody tr th {\n",
       "        vertical-align: top;\n",
       "    }\n",
       "\n",
       "    .dataframe thead th {\n",
       "        text-align: right;\n",
       "    }\n",
       "</style>\n",
       "<table border=\"1\" class=\"dataframe\">\n",
       "  <thead>\n",
       "    <tr style=\"text-align: right;\">\n",
       "      <th></th>\n",
       "      <th>Latitude</th>\n",
       "      <th>Longitude</th>\n",
       "      <th>dx</th>\n",
       "      <th>dy</th>\n",
       "    </tr>\n",
       "    <tr>\n",
       "      <th>Header_secs</th>\n",
       "      <th></th>\n",
       "      <th></th>\n",
       "      <th></th>\n",
       "      <th></th>\n",
       "    </tr>\n",
       "  </thead>\n",
       "  <tbody>\n",
       "    <tr>\n",
       "      <th>2020-10-08 11:34:34</th>\n",
       "      <td>50.761040</td>\n",
       "      <td>6.074403</td>\n",
       "      <td>3.350206</td>\n",
       "      <td>-0.457228</td>\n",
       "    </tr>\n",
       "    <tr>\n",
       "      <th>2020-10-08 11:34:35</th>\n",
       "      <td>50.761039</td>\n",
       "      <td>6.074403</td>\n",
       "      <td>3.392383</td>\n",
       "      <td>-0.435002</td>\n",
       "    </tr>\n",
       "    <tr>\n",
       "      <th>2020-10-08 11:34:37</th>\n",
       "      <td>50.761039</td>\n",
       "      <td>6.074402</td>\n",
       "      <td>3.441590</td>\n",
       "      <td>-0.435002</td>\n",
       "    </tr>\n",
       "    <tr>\n",
       "      <th>2020-10-08 11:34:38</th>\n",
       "      <td>50.761039</td>\n",
       "      <td>6.074401</td>\n",
       "      <td>3.497827</td>\n",
       "      <td>-0.435002</td>\n",
       "    </tr>\n",
       "    <tr>\n",
       "      <th>2020-10-08 11:34:39</th>\n",
       "      <td>50.761040</td>\n",
       "      <td>6.074400</td>\n",
       "      <td>3.554064</td>\n",
       "      <td>-0.446115</td>\n",
       "    </tr>\n",
       "    <tr>\n",
       "      <th>...</th>\n",
       "      <td>...</td>\n",
       "      <td>...</td>\n",
       "      <td>...</td>\n",
       "      <td>...</td>\n",
       "    </tr>\n",
       "    <tr>\n",
       "      <th>2020-10-08 12:48:21</th>\n",
       "      <td>50.761018</td>\n",
       "      <td>6.074467</td>\n",
       "      <td>-1.120618</td>\n",
       "      <td>1.976519</td>\n",
       "    </tr>\n",
       "    <tr>\n",
       "      <th>2020-10-08 12:48:23</th>\n",
       "      <td>50.761018</td>\n",
       "      <td>6.074467</td>\n",
       "      <td>-1.134677</td>\n",
       "      <td>1.987632</td>\n",
       "    </tr>\n",
       "    <tr>\n",
       "      <th>2020-10-08 12:48:24</th>\n",
       "      <td>50.761018</td>\n",
       "      <td>6.074467</td>\n",
       "      <td>-1.127648</td>\n",
       "      <td>1.987632</td>\n",
       "    </tr>\n",
       "    <tr>\n",
       "      <th>2020-10-08 12:48:25</th>\n",
       "      <td>50.761018</td>\n",
       "      <td>6.074467</td>\n",
       "      <td>-1.148736</td>\n",
       "      <td>1.998745</td>\n",
       "    </tr>\n",
       "    <tr>\n",
       "      <th>2020-10-08 12:48:26</th>\n",
       "      <td>50.761018</td>\n",
       "      <td>6.074467</td>\n",
       "      <td>-1.155766</td>\n",
       "      <td>1.998745</td>\n",
       "    </tr>\n",
       "  </tbody>\n",
       "</table>\n",
       "<p>3999 rows × 4 columns</p>\n",
       "</div>"
      ],
      "text/plain": [
       "                      Latitude  Longitude        dx        dy\n",
       "Header_secs                                                  \n",
       "2020-10-08 11:34:34  50.761040   6.074403  3.350206 -0.457228\n",
       "2020-10-08 11:34:35  50.761039   6.074403  3.392383 -0.435002\n",
       "2020-10-08 11:34:37  50.761039   6.074402  3.441590 -0.435002\n",
       "2020-10-08 11:34:38  50.761039   6.074401  3.497827 -0.435002\n",
       "2020-10-08 11:34:39  50.761040   6.074400  3.554064 -0.446115\n",
       "...                        ...        ...       ...       ...\n",
       "2020-10-08 12:48:21  50.761018   6.074467 -1.120618  1.976519\n",
       "2020-10-08 12:48:23  50.761018   6.074467 -1.134677  1.987632\n",
       "2020-10-08 12:48:24  50.761018   6.074467 -1.127648  1.987632\n",
       "2020-10-08 12:48:25  50.761018   6.074467 -1.148736  1.998745\n",
       "2020-10-08 12:48:26  50.761018   6.074467 -1.155766  1.998745\n",
       "\n",
       "[3999 rows x 4 columns]"
      ]
     },
     "execution_count": 11,
     "metadata": {},
     "output_type": "execute_result"
    }
   ],
   "source": [
    "df_gps = df_gps.drop(['Latitude_y', 'Longitude_y', 'lat'], axis=1)\n",
    "df_gps = df_gps.rename({'Latitude_x':'Latitude', 'Longitude_x': 'Longitude', 'dx (m)': 'dx', 'dy (m)': 'dy'}, axis=1)\n",
    "df_gps"
   ]
  },
  {
   "cell_type": "code",
   "execution_count": null,
   "id": "ebc20cd4-a53d-4753-9a21-39d731e8601b",
   "metadata": {},
   "outputs": [],
   "source": []
  },
  {
   "cell_type": "markdown",
   "id": "1cf2839b-0e38-4ea9-ae8b-61ee4d106d69",
   "metadata": {},
   "source": [
    "### Arbeitsschritt 4\n",
    "\n",
    "- Prüfen der Mittelwerte von `dx`und `dy`\n",
    "- Verschieben von `dx` und `dy` um ihren Mittelwert"
   ]
  },
  {
   "cell_type": "code",
   "execution_count": 14,
   "id": "a2be46e4-f451-4f5d-8903-1f6992b61e01",
   "metadata": {},
   "outputs": [
    {
     "data": {
      "text/plain": [
       "dx    0.626589\n",
       "dy   -0.368382\n",
       "dtype: float64"
      ]
     },
     "execution_count": 14,
     "metadata": {},
     "output_type": "execute_result"
    }
   ],
   "source": [
    "# Mittelwerte beider Spalten anzeigen\n",
    "df_gps[['dx','dy']].mean()"
   ]
  },
  {
   "cell_type": "markdown",
   "id": "ba7db6ce-7b36-4eba-b5a4-6f175823ac86",
   "metadata": {},
   "source": [
    "Offenbar sind die Mittelwerte stark von Null verschieden. `dx` und `dy` durch Abziehen der Mittelwerte bereinigen \n",
    "\n",
    ">Theoretisch müsste man auch die Positionen korrigieren. Das wäre aber wegen Grad und Meter kompliziert"
   ]
  },
  {
   "cell_type": "code",
   "execution_count": 20,
   "id": "b92260ca-71e2-4d5a-b4b6-d28f20099ead",
   "metadata": {},
   "outputs": [
    {
     "data": {
      "text/html": [
       "<div>\n",
       "<style scoped>\n",
       "    .dataframe tbody tr th:only-of-type {\n",
       "        vertical-align: middle;\n",
       "    }\n",
       "\n",
       "    .dataframe tbody tr th {\n",
       "        vertical-align: top;\n",
       "    }\n",
       "\n",
       "    .dataframe thead th {\n",
       "        text-align: right;\n",
       "    }\n",
       "</style>\n",
       "<table border=\"1\" class=\"dataframe\">\n",
       "  <thead>\n",
       "    <tr style=\"text-align: right;\">\n",
       "      <th></th>\n",
       "      <th>Latitude</th>\n",
       "      <th>Longitude</th>\n",
       "      <th>dx</th>\n",
       "      <th>dy</th>\n",
       "    </tr>\n",
       "  </thead>\n",
       "  <tbody>\n",
       "    <tr>\n",
       "      <th>count</th>\n",
       "      <td>3999.000000</td>\n",
       "      <td>3999.000000</td>\n",
       "      <td>3.999000e+03</td>\n",
       "      <td>3.999000e+03</td>\n",
       "    </tr>\n",
       "    <tr>\n",
       "      <th>mean</th>\n",
       "      <td>50.761039</td>\n",
       "      <td>6.074442</td>\n",
       "      <td>-5.685763e-17</td>\n",
       "      <td>5.685763e-17</td>\n",
       "    </tr>\n",
       "    <tr>\n",
       "      <th>std</th>\n",
       "      <td>0.000012</td>\n",
       "      <td>0.000019</td>\n",
       "      <td>1.335040e+00</td>\n",
       "      <td>1.351701e+00</td>\n",
       "    </tr>\n",
       "    <tr>\n",
       "      <th>min</th>\n",
       "      <td>50.761008</td>\n",
       "      <td>6.074382</td>\n",
       "      <td>-2.815706e+00</td>\n",
       "      <td>-3.978396e+00</td>\n",
       "    </tr>\n",
       "    <tr>\n",
       "      <th>25%</th>\n",
       "      <td>50.761031</td>\n",
       "      <td>6.074435</td>\n",
       "      <td>-8.895964e-01</td>\n",
       "      <td>-9.389901e-01</td>\n",
       "    </tr>\n",
       "    <tr>\n",
       "      <th>50%</th>\n",
       "      <td>50.761038</td>\n",
       "      <td>6.074445</td>\n",
       "      <td>-2.428735e-01</td>\n",
       "      <td>7.784936e-02</td>\n",
       "    </tr>\n",
       "    <tr>\n",
       "      <th>75%</th>\n",
       "      <td>50.761047</td>\n",
       "      <td>6.074455</td>\n",
       "      <td>5.128081e-01</td>\n",
       "      <td>8.779854e-01</td>\n",
       "    </tr>\n",
       "    <tr>\n",
       "      <th>max</th>\n",
       "      <td>50.761075</td>\n",
       "      <td>6.074482</td>\n",
       "      <td>4.234980e+00</td>\n",
       "      <td>3.411749e+00</td>\n",
       "    </tr>\n",
       "  </tbody>\n",
       "</table>\n",
       "</div>"
      ],
      "text/plain": [
       "          Latitude    Longitude            dx            dy\n",
       "count  3999.000000  3999.000000  3.999000e+03  3.999000e+03\n",
       "mean     50.761039     6.074442 -5.685763e-17  5.685763e-17\n",
       "std       0.000012     0.000019  1.335040e+00  1.351701e+00\n",
       "min      50.761008     6.074382 -2.815706e+00 -3.978396e+00\n",
       "25%      50.761031     6.074435 -8.895964e-01 -9.389901e-01\n",
       "50%      50.761038     6.074445 -2.428735e-01  7.784936e-02\n",
       "75%      50.761047     6.074455  5.128081e-01  8.779854e-01\n",
       "max      50.761075     6.074482  4.234980e+00  3.411749e+00"
      ]
     },
     "execution_count": 20,
     "metadata": {},
     "output_type": "execute_result"
    }
   ],
   "source": [
    "# dx und dy  um Mittelwerte verschieben\n",
    "df_gps.dx = df_gps.dx - df_gps.dx.mean()\n",
    "df_gps.dy = df_gps.dy - df_gps.dy.mean()\n",
    "\n",
    "df_gps.describe()"
   ]
  },
  {
   "cell_type": "markdown",
   "id": "2c3a3b54-38a0-4444-8533-da9255972791",
   "metadata": {},
   "source": [
    "### Arbeitsschritt 5: \n",
    "\n",
    "- Neue Spalte einfügen mit euklidischem Abstand\n",
    "- Ausgeben\n",
    "- Statistische Auswertung mit `describe(percentiles=...)` und/oder `.quantile()`"
   ]
  },
  {
   "cell_type": "code",
   "execution_count": 22,
   "id": "09819634-85b5-48f9-8cfd-23752bcf84a4",
   "metadata": {},
   "outputs": [
    {
     "data": {
      "text/html": [
       "<div>\n",
       "<style scoped>\n",
       "    .dataframe tbody tr th:only-of-type {\n",
       "        vertical-align: middle;\n",
       "    }\n",
       "\n",
       "    .dataframe tbody tr th {\n",
       "        vertical-align: top;\n",
       "    }\n",
       "\n",
       "    .dataframe thead th {\n",
       "        text-align: right;\n",
       "    }\n",
       "</style>\n",
       "<table border=\"1\" class=\"dataframe\">\n",
       "  <thead>\n",
       "    <tr style=\"text-align: right;\">\n",
       "      <th></th>\n",
       "      <th>Latitude</th>\n",
       "      <th>Longitude</th>\n",
       "      <th>dx</th>\n",
       "      <th>dy</th>\n",
       "      <th>abs_error</th>\n",
       "    </tr>\n",
       "    <tr>\n",
       "      <th>Header_secs</th>\n",
       "      <th></th>\n",
       "      <th></th>\n",
       "      <th></th>\n",
       "      <th></th>\n",
       "      <th></th>\n",
       "    </tr>\n",
       "  </thead>\n",
       "  <tbody>\n",
       "    <tr>\n",
       "      <th>2020-10-08 11:34:34</th>\n",
       "      <td>50.761040</td>\n",
       "      <td>6.074403</td>\n",
       "      <td>2.723616</td>\n",
       "      <td>-0.088846</td>\n",
       "      <td>2.725065</td>\n",
       "    </tr>\n",
       "    <tr>\n",
       "      <th>2020-10-08 11:34:35</th>\n",
       "      <td>50.761039</td>\n",
       "      <td>6.074403</td>\n",
       "      <td>2.765794</td>\n",
       "      <td>-0.066620</td>\n",
       "      <td>2.766596</td>\n",
       "    </tr>\n",
       "    <tr>\n",
       "      <th>2020-10-08 11:34:37</th>\n",
       "      <td>50.761039</td>\n",
       "      <td>6.074402</td>\n",
       "      <td>2.815001</td>\n",
       "      <td>-0.066620</td>\n",
       "      <td>2.815789</td>\n",
       "    </tr>\n",
       "    <tr>\n",
       "      <th>2020-10-08 11:34:38</th>\n",
       "      <td>50.761039</td>\n",
       "      <td>6.074401</td>\n",
       "      <td>2.871238</td>\n",
       "      <td>-0.066620</td>\n",
       "      <td>2.872010</td>\n",
       "    </tr>\n",
       "    <tr>\n",
       "      <th>2020-10-08 11:34:39</th>\n",
       "      <td>50.761040</td>\n",
       "      <td>6.074400</td>\n",
       "      <td>2.927474</td>\n",
       "      <td>-0.077733</td>\n",
       "      <td>2.928506</td>\n",
       "    </tr>\n",
       "    <tr>\n",
       "      <th>...</th>\n",
       "      <td>...</td>\n",
       "      <td>...</td>\n",
       "      <td>...</td>\n",
       "      <td>...</td>\n",
       "      <td>...</td>\n",
       "    </tr>\n",
       "    <tr>\n",
       "      <th>2020-10-08 12:48:21</th>\n",
       "      <td>50.761018</td>\n",
       "      <td>6.074467</td>\n",
       "      <td>-1.747207</td>\n",
       "      <td>2.344901</td>\n",
       "      <td>2.924260</td>\n",
       "    </tr>\n",
       "    <tr>\n",
       "      <th>2020-10-08 12:48:23</th>\n",
       "      <td>50.761018</td>\n",
       "      <td>6.074467</td>\n",
       "      <td>-1.761267</td>\n",
       "      <td>2.356014</td>\n",
       "      <td>2.941575</td>\n",
       "    </tr>\n",
       "    <tr>\n",
       "      <th>2020-10-08 12:48:24</th>\n",
       "      <td>50.761018</td>\n",
       "      <td>6.074467</td>\n",
       "      <td>-1.754237</td>\n",
       "      <td>2.356014</td>\n",
       "      <td>2.937371</td>\n",
       "    </tr>\n",
       "    <tr>\n",
       "      <th>2020-10-08 12:48:25</th>\n",
       "      <td>50.761018</td>\n",
       "      <td>6.074467</td>\n",
       "      <td>-1.775326</td>\n",
       "      <td>2.367127</td>\n",
       "      <td>2.958897</td>\n",
       "    </tr>\n",
       "    <tr>\n",
       "      <th>2020-10-08 12:48:26</th>\n",
       "      <td>50.761018</td>\n",
       "      <td>6.074467</td>\n",
       "      <td>-1.782355</td>\n",
       "      <td>2.367127</td>\n",
       "      <td>2.963120</td>\n",
       "    </tr>\n",
       "  </tbody>\n",
       "</table>\n",
       "<p>3999 rows × 5 columns</p>\n",
       "</div>"
      ],
      "text/plain": [
       "                      Latitude  Longitude        dx        dy  abs_error\n",
       "Header_secs                                                             \n",
       "2020-10-08 11:34:34  50.761040   6.074403  2.723616 -0.088846   2.725065\n",
       "2020-10-08 11:34:35  50.761039   6.074403  2.765794 -0.066620   2.766596\n",
       "2020-10-08 11:34:37  50.761039   6.074402  2.815001 -0.066620   2.815789\n",
       "2020-10-08 11:34:38  50.761039   6.074401  2.871238 -0.066620   2.872010\n",
       "2020-10-08 11:34:39  50.761040   6.074400  2.927474 -0.077733   2.928506\n",
       "...                        ...        ...       ...       ...        ...\n",
       "2020-10-08 12:48:21  50.761018   6.074467 -1.747207  2.344901   2.924260\n",
       "2020-10-08 12:48:23  50.761018   6.074467 -1.761267  2.356014   2.941575\n",
       "2020-10-08 12:48:24  50.761018   6.074467 -1.754237  2.356014   2.937371\n",
       "2020-10-08 12:48:25  50.761018   6.074467 -1.775326  2.367127   2.958897\n",
       "2020-10-08 12:48:26  50.761018   6.074467 -1.782355  2.367127   2.963120\n",
       "\n",
       "[3999 rows x 5 columns]"
      ]
     },
     "execution_count": 22,
     "metadata": {},
     "output_type": "execute_result"
    }
   ],
   "source": [
    "# Spalte abs_error nach Pythagoras berechnen und ins DataFrame aufnehmen\n",
    "df_gps['abs_error'] = np.sqrt(df_gps.dx**2 + df_gps.dy**2) \n",
    "df_gps"
   ]
  },
  {
   "cell_type": "code",
   "execution_count": 30,
   "id": "02b40fef-f5b4-418f-8063-42c32ccd2407",
   "metadata": {},
   "outputs": [
    {
     "data": {
      "text/plain": [
       "count    3999.000000\n",
       "mean        1.648279\n",
       "std         0.944418\n",
       "min         0.032935\n",
       "50%         1.498095\n",
       "95%         3.366621\n",
       "max         4.614016\n",
       "Name: abs_error, dtype: float64"
      ]
     },
     "execution_count": 30,
     "metadata": {},
     "output_type": "execute_result"
    }
   ],
   "source": [
    "# Statistik der Absoluten Fehler\n",
    "df_gps.abs_error.describe(percentiles=[0.95])"
   ]
  },
  {
   "cell_type": "code",
   "execution_count": 29,
   "id": "98d8673e-58ff-4611-bdda-c1c092f88af7",
   "metadata": {},
   "outputs": [
    {
     "data": {
      "text/plain": [
       "3.3666212638833257"
      ]
     },
     "execution_count": 29,
     "metadata": {},
     "output_type": "execute_result"
    }
   ],
   "source": [
    "df_gps.abs_error.quantile(0.95)"
   ]
  },
  {
   "cell_type": "markdown",
   "id": "a1980ac0-a99c-47ab-8d36-94374487116f",
   "metadata": {},
   "source": [
    "### Arbeitsschritt 6\n",
    "\n",
    "Ausgabe Absoluter Fehler über der Zeit\n"
   ]
  },
  {
   "cell_type": "code",
   "execution_count": 35,
   "id": "f040585f-fc86-48fe-8d04-c8fd173d7afa",
   "metadata": {},
   "outputs": [
    {
     "data": {
      "text/plain": [
       "<AxesSubplot: xlabel='Header_secs'>"
      ]
     },
     "execution_count": 35,
     "metadata": {},
     "output_type": "execute_result"
    },
    {
     "data": {
      "image/png": "[encoded data removed]",
      "text/plain": [
       "<Figure size 640x480 with 1 Axes>"
      ]
     },
     "metadata": {},
     "output_type": "display_data"
    }
   ],
   "source": [
    "# Plot\n",
    "df_gps.abs_error.plot()"
   ]
  },
  {
   "cell_type": "markdown",
   "id": "689e28c7-f8a7-4b85-85a4-4234953c4ed3",
   "metadata": {},
   "source": [
    "### Scatter Plot\n",
    "\n",
    "- Der Scatter Plot ist eine Punktewolke aus den dx/dy Wertepaaren\n",
    "- Versuchen Sie, eine Darstellung wie oben zu erzeugen\n",
    "    Tipps:\n",
    "    - mit `sample()` auf eine handliche Anzahl (z.B. 100) reduzieren\n",
    "    - Koordinatensystem in die Mitte (`spines`)\n",
    "    - Gleiche Achsenteilungen für x und y (Stichwort `aspect`)\n",
    "    - Einzeichnen eines Kreises"
   ]
  },
  {
   "cell_type": "code",
   "execution_count": 48,
   "id": "ffbf8391-fe4e-47c5-aa1f-1bb92d7d1cba",
   "metadata": {},
   "outputs": [
    {
     "data": {
      "text/plain": [
       "<matplotlib.patches.Circle at 0x7fa61c6ab4c0>"
      ]
     },
     "execution_count": 48,
     "metadata": {},
     "output_type": "execute_result"
    },
    {
     "data": {
      "image/png": "[encoded data removed]",
      "text/plain": [
       "<Figure size 640x480 with 1 Axes>"
      ]
     },
     "metadata": {},
     "output_type": "display_data"
    }
   ],
   "source": [
    "fig, ax = plt.subplots()\n",
    "df_gps.sample(100).plot.scatter('dx','dy', ax = ax)\n",
    "ax.spines['left'].set_position('zero')\n",
    "ax.spines['bottom'].set_position('zero')\n",
    "ax.spines['right'].set_visible(False)\n",
    "ax.spines['top'].set_visible(False)\n",
    "ax.add_patch(plt.Circle((0,0), df_gps.abs_error.quantile(0.95), fill=False, linestyle='-.', linewidth=0.5))\n"
   ]
  },
  {
   "cell_type": "code",
   "execution_count": null,
   "id": "29947bd0-448a-45d0-a87c-2c13ae8b1596",
   "metadata": {},
   "outputs": [],
   "source": []
  }
 ],
 "metadata": {
  "kernelspec": {
   "display_name": "Python 3 (ipykernel)",
   "language": "python",
   "name": "python3"
  },
  "language_info": {
   "codemirror_mode": {
    "name": "ipython",
    "version": 3
   },
   "file_extension": ".py",
   "mimetype": "text/x-python",
   "name": "python",
   "nbconvert_exporter": "python",
   "pygments_lexer": "ipython3",
   "version": "3.10.8"
  }
 },
 "nbformat": 4,
 "nbformat_minor": 5
}
