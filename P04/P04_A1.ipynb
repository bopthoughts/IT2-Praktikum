{
 "cells": [
  {
   "cell_type": "markdown",
   "id": "25d17f90-95a8-4ff0-b362-4a29823b447e",
   "metadata": {},
   "source": [
    "# Praktikum Informationstechnik im Maschinenbau II\n",
    "## P04 - Übergang zu numpy"
   ]
  },
  {
   "cell_type": "markdown",
   "id": "37c4a772-8508-4235-8614-13b883edabcf",
   "metadata": {
    "tags": []
   },
   "source": [
    "## Aufgabe 1: Programmierung einer Reihenentwicklung\n",
    "\n",
    "Die Exponentionalfunktion kann bekanntlich mit der Reihenentwicklung\n",
    "$$\n",
    "e^x = 1 + \\frac{x}{1!} + \\frac{x^2}{2!} + \\frac{x^3}{3!} + \\dots + \\frac{x^{n_{max}}}{n_{max}!} = \\sum_{k=0}^{\\infty} \\frac{x^k}{k!}  \n",
    "$$\n",
    "berechnet werden. Programmieren Sie die Lösung der Reihenentwicklung als selbstdefinierte Funktion `expo` in purem Python (ohne `numpy` oder `math`). Gestalten Sie die Funktion so, dass die maximale Anzahl der Summanden $n_{max}$ und das Abbruchkriterium für die Genauigkeit $\\epsilon$ als Parameter übergeben werden können. Ohne Angabe sollen die Werte $n_{max} = 20$ und $\\epsilon = 1 \\times 10^{-8}$ gelten. \n",
    "\n",
    "\n",
    "### a) Schreiben der Funktionen\n",
    "\n",
    "Hinweise\n",
    "\n",
    "1. Schreiben Sie eine `while` oder eine `for`-Schleife\n",
    "2. Sorgen Sie dafür, dass die Schleife spätestens nach $n_{max}$ Durchläufen unabhängig vom Ergebnis terminiert\n",
    "3. Brechen Sie die Berechnung ab, wenn der letzte Term der Summe einen Absolutwert von $< \\epsilon$ hat. \n",
    "4. Benutzen Sie außer den Standardschlüsselworten nur die Standardfunktionen `abs()` und `sum()`\n",
    "\n",
    "Schreiben Sie zwei Varianten des Programms:\n",
    "- eine Variante `expo_1`, in der Sie zunächst eine Function `faculty(n)` schreiben, die die Fakultät einer ganzen Zahl ausrechnet und zurückgibt. Diese Function verwenden Sie dann in der Berechnung der Terme der Reihe\n",
    "- eine Variante `expo_2`, die ohne Berechnung der Fakulät auskommt (rekursiv)\n",
    "- in beiden Fällen soll außer dem Ergebnis auch der x-Wert, die Anzahl Durchläufe und der Absolutwert des letzten Reihenterms zurückgegeben werden"
   ]
  },
  {
   "cell_type": "markdown",
   "id": "1a7415e2-473d-4909-a64c-e7fe0850e93a",
   "metadata": {},
   "source": [
    "### Variante 1\n",
    "\n",
    "#### Berechnung der Fakulät einer ganzen Zahl"
   ]
  },
  {
   "cell_type": "code",
   "execution_count": 1,
   "id": "913b0f51-1053-42ff-aafc-ab5b30009c6a",
   "metadata": {},
   "outputs": [
    {
     "data": {
      "text/plain": [
       "24"
      ]
     },
     "execution_count": 1,
     "metadata": {},
     "output_type": "execute_result"
    }
   ],
   "source": [
    "# Version mit while-Schleife\n",
    "def faculty(n):\n",
    "    y=1\n",
    "    z=1\n",
    "    while z<=n:\n",
    "        y=y*z\n",
    "        z=z+1\n",
    "    return y\n",
    "faculty(4)"
   ]
  },
  {
   "cell_type": "code",
   "execution_count": 2,
   "id": "d00d4fd8-0ddd-4856-8a6a-5c8d7773cd4f",
   "metadata": {},
   "outputs": [
    {
     "data": {
      "text/plain": [
       "120"
      ]
     },
     "execution_count": 2,
     "metadata": {},
     "output_type": "execute_result"
    }
   ],
   "source": [
    "# Alternative mit for-Schleife\n",
    "def faculty(n):\n",
    "    y=1\n",
    "    z=1\n",
    "    for z in range(1, n+1):\n",
    "        y=y*z\n",
    "    return y\n",
    "faculty(5)"
   ]
  },
  {
   "cell_type": "markdown",
   "id": "35a6f7f2-075e-4538-9845-e75a5980bf35",
   "metadata": {},
   "source": [
    "#### Reihenentwicklung unter Nutzung von `faculty()`"
   ]
  },
  {
   "cell_type": "code",
   "execution_count": 21,
   "id": "d4d9c247-e278-42c5-a41c-159639278667",
   "metadata": {},
   "outputs": [],
   "source": [
    "def expo_1(x):\n",
    "    n=1\n",
    "    ex=1\n",
    "    while n<=20:\n",
    "        ex=ex+(x**n) / faculty(n)\n",
    "        n=n+1\n",
    "    return ex\n"
   ]
  },
  {
   "cell_type": "code",
   "execution_count": 19,
   "id": "14aee828-765f-417a-8d0c-2f617e983114",
   "metadata": {},
   "outputs": [],
   "source": [
    "def expo_1(x, n=20, eps=1e-8):\n",
    "    res=1\n",
    "    for ex in range(1, n+1):\n",
    "        term=x**ex / faculty(ex)\n",
    "        if abs(term < eps):\n",
    "            res = res+term\n",
    "    return res"
   ]
  },
  {
   "cell_type": "code",
   "execution_count": 22,
   "id": "c5e11190-f04d-4c76-a9ad-f3ae1254df27",
   "metadata": {},
   "outputs": [
    {
     "data": {
      "text/plain": [
       "0.36787944117144245"
      ]
     },
     "execution_count": 22,
     "metadata": {},
     "output_type": "execute_result"
    }
   ],
   "source": [
    "# Test\n",
    "expo_1(-1)"
   ]
  },
  {
   "cell_type": "markdown",
   "id": "21a61321-14a9-4d9a-bade-767a431aabb1",
   "metadata": {},
   "source": [
    "### Variante 2\n",
    "\n",
    "#### rekursiv, ohne Fakultätsfunktion"
   ]
  },
  {
   "cell_type": "code",
   "execution_count": 23,
   "id": "76e93d53-1921-4a35-bd28-b30028661630",
   "metadata": {},
   "outputs": [
    {
     "ename": "SyntaxError",
     "evalue": "incomplete input (1593629945.py, line 2)",
     "output_type": "error",
     "traceback": [
      "\u001b[0;36m  Cell \u001b[0;32mIn[23], line 2\u001b[0;36m\u001b[0m\n\u001b[0;31m    \u001b[0m\n\u001b[0m    ^\u001b[0m\n\u001b[0;31mSyntaxError\u001b[0m\u001b[0;31m:\u001b[0m incomplete input\n"
     ]
    }
   ],
   "source": [
    "def expo_2(x):\n",
    "    \n"
   ]
  },
  {
   "cell_type": "code",
   "execution_count": null,
   "id": "73c7654a-b78b-4dcc-ad47-7e36646c7064",
   "metadata": {},
   "outputs": [],
   "source": [
    "expo_2(1)"
   ]
  },
  {
   "cell_type": "markdown",
   "id": "2dfb1e9b-7055-4f2e-bc48-7df736a6b588",
   "metadata": {},
   "source": [
    "### b) Test der Genauigkeit und der Performance beider Varianten\n",
    "\n",
    "1. Erzeugen Sie eine Liste `X` mit 1000 Werten zwischen -5 und + 5 (ohne `numpy`, als `list comprehension`)\n",
    "2. Erzeugen Sie eine Liste `Y` mit den Ergebnissen der Berechnung mit `expo_1` (ebenfalls als  `list comprehension`)\n",
    "3. Welche Hinweise liefern Ihnen die Ergebnisse? In welchem Wertebereich erhalten Sie eine akzeptable Genauigkeit bei $n_{max} = 20$? Schauen Sie sich dazu jeden 50. Wert der Liste an. Liefert `expo_2` andere Ergebnisse?\n",
    "4. Messen Sie die Laufzeiten der beiden Programmierungsvarianten mit der `magic`-Funktion `%%timeit -n 10` (muss als erste Anweisung in der Zelle stehen, auch kein Kommentar davor. `-n 10` begrenzt die Zahl der Durchläufe)"
   ]
  },
  {
   "cell_type": "code",
   "execution_count": null,
   "id": "1a2b0a90-aa13-44a0-8224-df3f0d0e764a",
   "metadata": {},
   "outputs": [],
   "source": [
    "offs = -5\n",
    "N = 1000\n",
    "step = 10/N\n",
    "\n",
    "X = [offs + lv*step ]"
   ]
  },
  {
   "cell_type": "code",
   "execution_count": 38,
   "id": "90194d54-6914-40cf-9f1e-e0e84d8183ac",
   "metadata": {},
   "outputs": [
    {
     "ename": "NameError",
     "evalue": "name 'X' is not defined",
     "output_type": "error",
     "traceback": [
      "\u001b[0;31m---------------------------------------------------------------------------\u001b[0m",
      "\u001b[0;31mNameError\u001b[0m                                 Traceback (most recent call last)",
      "Cell \u001b[0;32mIn[38], line 3\u001b[0m\n\u001b[1;32m      1\u001b[0m \u001b[38;5;66;03m# Ausrechnen der Funktionswerte zu jedem Element in X\u001b[39;00m\n\u001b[0;32m----> 3\u001b[0m Y \u001b[38;5;241m=\u001b[39m [expo_1(x) \u001b[38;5;28;01mfor\u001b[39;00m x \u001b[38;5;129;01min\u001b[39;00m \u001b[43mX\u001b[49m]\n\u001b[1;32m      4\u001b[0m \u001b[38;5;66;03m# Ausgeben jedes 50. Werts\u001b[39;00m\n",
      "\u001b[0;31mNameError\u001b[0m: name 'X' is not defined"
     ]
    }
   ],
   "source": [
    "# Ausrechnen der Funktionswerte zu jedem Element in X\n",
    "\n",
    "Y = [expo_1(x) for x in X]\n",
    "# Ausgeben jedes 50. Werts\n"
   ]
  },
  {
   "cell_type": "markdown",
   "id": "6d0d3f48-d6b2-4570-b6a9-cb9e23f31bb3",
   "metadata": {
    "tags": []
   },
   "source": [
    "### c) Dieselbe Rechnung unter Nutzung der Methode `.exp()` des `ndarray`-Objekts\n",
    "\n",
    "1. Erzeugen Sie ein Array `Xnp` mit 1000 Werten zwischen -5 und + 5 (mit `numpy.arange` oder `numpy.linspace`) \n",
    "2. Erzeugen Sie ein Array `Ynp` aus Ergebnissen der Berechnung mit `.exp()` (nur Funktionswerte)\n",
    "4. Messen Sie die Laufzeit \n",
    "3. \"Casten\" Sie `Y` (Ergebnis aus Aufgabenteil b) ) in ein np.array und geben Sie die Anzahl Dimensionen und die \"shape\" an.\n",
    "7. Erzeugen Sie eine Wertetabelle mit den Spalten x-Wert und Berechnungsfehler `y - ynp`. Geben Sie jeden 50. Wert aus\n",
    "8. Stellen Sie den Fehler grafisch dar\n"
   ]
  },
  {
   "cell_type": "code",
   "execution_count": 26,
   "id": "08fd1da9-1d8b-4109-8b81-0dc0ffcd24bf",
   "metadata": {},
   "outputs": [],
   "source": [
    "# Importieren von numpy\n",
    "import numpy as np"
   ]
  },
  {
   "cell_type": "code",
   "execution_count": 33,
   "id": "80f68b9a-3e6b-4e0c-b129-6c5e8014cb2f",
   "metadata": {},
   "outputs": [
    {
     "data": {
      "text/plain": [
       "(1000,)"
      ]
     },
     "execution_count": 33,
     "metadata": {},
     "output_type": "execute_result"
    }
   ],
   "source": [
    "# Erzeugen einer Wertefolge\n",
    "N = 1000\n",
    "step = 10/N\n",
    "\n",
    "Xnp = np.arange(-5, 5, step)\n",
    "\n",
    "Xnp.shape"
   ]
  },
  {
   "cell_type": "code",
   "execution_count": 35,
   "id": "2976936e-de7c-47ee-bb26-8f54d8afcf77",
   "metadata": {},
   "outputs": [],
   "source": [
    "# Berechnen der Ergebnisse\n",
    "Ynp = np.exp(Xnp)"
   ]
  },
  {
   "cell_type": "markdown",
   "id": "ab809883-8678-48dc-8957-6e92a9b2f155",
   "metadata": {},
   "source": [
    "Ein Durchlauf erfordert wenige Mikrosekunden !"
   ]
  },
  {
   "cell_type": "code",
   "execution_count": null,
   "id": "4f7eb805-0e46-4417-9c67-dfd425a95d23",
   "metadata": {},
   "outputs": [],
   "source": [
    "# \"Casten\" von Y als np.array\n",
    "\n",
    "# Ausgeben der Zahl der Dims und der shape"
   ]
  },
  {
   "cell_type": "code",
   "execution_count": 36,
   "id": "a823bb73-9901-47e0-bd51-c305bd82d6f5",
   "metadata": {},
   "outputs": [
    {
     "ename": "NameError",
     "evalue": "name 'Y' is not defined",
     "output_type": "error",
     "traceback": [
      "\u001b[0;31m---------------------------------------------------------------------------\u001b[0m",
      "\u001b[0;31mNameError\u001b[0m                                 Traceback (most recent call last)",
      "Cell \u001b[0;32mIn[36], line 2\u001b[0m\n\u001b[1;32m      1\u001b[0m \u001b[38;5;66;03m# Fehlerberechnung\u001b[39;00m\n\u001b[0;32m----> 2\u001b[0m fehler \u001b[38;5;241m=\u001b[39m Ynp \u001b[38;5;241m-\u001b[39m np\u001b[38;5;241m.\u001b[39marray(\u001b[43mY\u001b[49m)[:,\u001b[38;5;241m1\u001b[39m]\n",
      "\u001b[0;31mNameError\u001b[0m: name 'Y' is not defined"
     ]
    }
   ],
   "source": [
    "# Fehlerberechnung\n",
    "fehler = Ynp - np.array(Y)[:,1]"
   ]
  },
  {
   "cell_type": "code",
   "execution_count": null,
   "id": "e6d4e1a7-b285-4caa-96c6-4a3b0a512258",
   "metadata": {},
   "outputs": [],
   "source": [
    "# Wertetabelle\n"
   ]
  },
  {
   "cell_type": "code",
   "execution_count": 37,
   "id": "04e4c0fc-9246-40b3-8aad-567b4137e664",
   "metadata": {},
   "outputs": [
    {
     "data": {
      "text/plain": [
       "[<matplotlib.lines.Line2D at 0x7fb5e0e18400>]"
      ]
     },
     "execution_count": 37,
     "metadata": {},
     "output_type": "execute_result"
    },
    {
     "data": {
      "image/png": "[encoded data removed]",
      "text/plain": [
       "<Figure size 640x480 with 1 Axes>"
      ]
     },
     "metadata": {},
     "output_type": "display_data"
    }
   ],
   "source": [
    "# Grafische Darstellung\n",
    "import matplotlib.pyplot as plt\n",
    "plt.plot(Xnp)"
   ]
  },
  {
   "cell_type": "code",
   "execution_count": null,
   "id": "7453e083-cf0d-4d4f-8d00-1281e4e76a49",
   "metadata": {},
   "outputs": [],
   "source": []
  }
 ],
 "metadata": {
  "kernelspec": {
   "display_name": "Python 3 (ipykernel)",
   "language": "python",
   "name": "python3"
  },
  "language_info": {
   "codemirror_mode": {
    "name": "ipython",
    "version": 3
   },
   "file_extension": ".py",
   "mimetype": "text/x-python",
   "name": "python",
   "nbconvert_exporter": "python",
   "pygments_lexer": "ipython3",
   "version": "3.10.8"
  }
 },
 "nbformat": 4,
 "nbformat_minor": 5
}
