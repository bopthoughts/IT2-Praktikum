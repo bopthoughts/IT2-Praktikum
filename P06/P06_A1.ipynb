{
 "cells": [
  {
   "cell_type": "markdown",
   "id": "8f690b7e-84eb-465d-84c5-096cf371bf47",
   "metadata": {},
   "source": [
    "# Praktikum Informationstechnik im Maschinenbau II\n",
    "## P06 - Berechnung von Stabkräften in einem Fachwerk mit numpy\n",
    "\n",
    "**Diese Aufgabe erfordert umfassende Kenntnis der Übung 01 (ausführlich kommentierte Musterlösung)**"
   ]
  },
  {
   "cell_type": "markdown",
   "id": "69b25d91-4b66-4606-81cd-6128c8335488",
   "metadata": {},
   "source": [
    "Im Bild ist ein dreidimensionales Stabwerk bestehend aus den Knoten (I bis V) und Stäben (1 - 9) jeweils zwischen zwei Knoten dargestellt. Über sechs weitere Stäbe (A - F) ist die Struktur mit der ruhenden Umgebung verbunden (Auflagerkräfte). An der Spitze der Struktur wirkt eine beliebig orientierte äußere Kraft $\\vec{F}$, die durch ihre Komponenten in x, -y und -z-Richtung $F_{1}$, $F_{2}$ und $F_{3}$ gegeben ist.\n",
    "\n",
    "\n",
    "\n",
    "![](bilder/3d_trusses_task.gif)   ![](bilder/3d_trusses_geometry.gif)\n",
    "\n",
    "Das rechte Bild definiert das Koordinatensystem und die Positionen der Knoten I bis V. \n",
    "\n",
    ">Bitte beachten. Die z-Koordinate des Knotens II über der Grundfläche beträgt $3a$ und ist im linken Bild etwas versteckt\n",
    "\n",
    "In diesem Praktikum sollen Sie mit Hilfe von numpy die Beträge der Kräfte in den Stäben $F_{S1}$ bis $F_{S9}$ und die Auflagerkräfte $F_A$ bis $F_F$ für einen beliebigen Lastfall berechnen. \n",
    "\n",
    "## Lösungsweg\n",
    "\n",
    "Sie müssen, so wie es in der Übung gezeigt wurde, für jeden Knoten das vektorielle Kräftegleichgewicht formulieren. Siehe Bild\n",
    "\n",
    "![](bilder/3d_trusses_equilibrium.gif) \n",
    "\n",
    "Die Gleichungen für alle 5 Knoten kombinieren Sie zu einem Gleichungssystem aus 15 Gleichungen für 15 Unbekannte in der Form, die zur Lösung des Gleichungssystems mit numpy notwendig ist\n",
    "$$\n",
    "\\mathbf{A} \\vec{x} = \\vec{y}\n",
    "$$\n",
    "Darin ist $\\mathbf{A}$ eine Koeffizientenmatrix, $\\vec{x}$ der Vektor aller Stab- und Auflagerkräfte und $\\vec{y}$ die rechte Gleichungsseite, die aus den äußeren Kräften gebildet wird.\n",
    "\n",
    "Wir vereinbaren, dass eine Zugkraft entsprechend dem Bild positiv gezählt wird. "
   ]
  },
  {
   "cell_type": "markdown",
   "id": "5df0665f-fb45-4e0b-9d44-738b0addf39b",
   "metadata": {},
   "source": [
    "## Vorgehensweise\n",
    "\n",
    "Gehen Sie in den folgenden Schritten vor:\n",
    "\n",
    "- a) Lesen Sie aus der Geometrie des Stabwerkes die Ortsvektoren der Knoten $\\vec{P}_1$ (Knoten I) bis $\\vec{P}_5$ (Knoten V) ab\n",
    "- b) Berechnen Sie alle Richtungsvektoren zwischen jeweils zwei Knoten\n",
    "- c) Formulieren Sie das Gleichungssystem für Knoten I in der Form $\\mathbf{A}_1 \\cdot \\vec{x} = \\vec{y_1}$\n",
    "- d) Formulieren Sie die Gleichungssysteme für Knoten II bis V in analoger Weise (für Lastfall $\\vec{F}=\\begin{bmatrix}0 & 0 & -1\\end{bmatrix}^T$, Druckkraft von oben)\n",
    "- e) Kombinieren Sie die Teilsysteme zum Gesamtsystem $\\mathbf{A} \\cdot \\vec{x} = \\vec{y}$ (15 Gleichungen für 15 Unbekannte)\n",
    "- f) Lösen Sie das Systeme mit Hilfe von `numpy.linalg.solve()` \n",
    "- g) Prüfen und interpretieren Sie die Lösung\n",
    "- h) Untersuchen Sie weitere Lastfälle\n",
    "\n",
    ">Anmerkung: als `A.npy` ist eine Numpy-Datei beigefügt, die die $\\mathbf{A}$-Matrix als Ergebnis aus Aufgabenteil e) beinhaltet\n",
    "    "
   ]
  },
  {
   "cell_type": "markdown",
   "id": "956e9203-a3a6-4c26-b167-f61af49ed7d1",
   "metadata": {
    "tags": []
   },
   "source": [
    "## a) Ortsvektoren der Knoten $\\vec{P}_1$ (Knoten I) bis $\\vec{P}_5$ (Knoten V)"
   ]
  },
  {
   "cell_type": "code",
   "execution_count": 1,
   "id": "b44c53ac-78ed-4973-9a58-8635e8e46768",
   "metadata": {
    "tags": []
   },
   "outputs": [],
   "source": [
    "import numpy as np\n",
    "A=np.load('A.npy')"
   ]
  },
  {
   "cell_type": "code",
   "execution_count": 2,
   "id": "1aa17d40-bc30-43ac-af16-c4dda7659a00",
   "metadata": {},
   "outputs": [],
   "source": [
    "# Alle 5 Ortsvektoren\n",
    "a=1  \n",
    "P1 = np.array([[0, 0, 0]]).T\n",
    "P2 = np.array([[a, 1.5*a, 3*a]]).T\n",
    "P3 = np.array([[0, 3*a, 0]]).T\n",
    "P4 = np.array([[2*a, 0, 0]]).T\n",
    "P5 = np.array([[2*a, 3*a, 0]]).T\n",
    "\n",
    "\n"
   ]
  },
  {
   "cell_type": "markdown",
   "id": "640067b7-dc8a-4582-89c2-07a186697c01",
   "metadata": {},
   "source": [
    "## b) Richtungsvektoren $r_{ij}$ von $P_i$ $P_j$"
   ]
  },
  {
   "cell_type": "code",
   "execution_count": 3,
   "id": "7de7980e-6290-4b9a-ba53-681047fb005d",
   "metadata": {
    "tags": []
   },
   "outputs": [],
   "source": [
    "# Definition einer Funktion zur Berechnung eines normierten Richtungsvektors zwischen zwei Knoten\n",
    "def rtgvec(Pi, Pj):\n",
    "    r=Pj - Pi\n",
    "    return r / np.linalg.norm(r)"
   ]
  },
  {
   "cell_type": "code",
   "execution_count": 4,
   "id": "94298828-2063-4274-ad43-bf35970ad906",
   "metadata": {},
   "outputs": [
    {
     "data": {
      "text/plain": [
       "array([[0.5547002 ],\n",
       "       [0.83205029],\n",
       "       [0.        ]])"
      ]
     },
     "execution_count": 4,
     "metadata": {},
     "output_type": "execute_result"
    }
   ],
   "source": [
    "# Test mit dem Richtungsvektor zwischen Knoten I und Knoten V\n",
    "r15 = rtgvec(P1, P5)\n",
    "r15"
   ]
  },
  {
   "cell_type": "code",
   "execution_count": 5,
   "id": "582ae917-fdd6-4d15-af02-7c9a2420fba9",
   "metadata": {},
   "outputs": [],
   "source": [
    "# Anwenden der Function auf alle Knotenverbindungen\n",
    "\n",
    "# von Knoten I ausgehend\n",
    "r12 = rtgvec(P1, P2)\n",
    "r13 = rtgvec(P1, P3)\n",
    "r14 = rtgvec(P1, P4)\n",
    "# Gegenrichtung\n",
    "r21 = - r12\n",
    "r31 = - r13\n",
    "r41 = - r14\n",
    "r51 = - r15\n",
    "\n",
    "# von Knoten II ausgehend\n",
    "r23 = rtgvec(P2, P3)\n",
    "r24 = rtgvec(P2, P4)\n",
    "r25 = rtgvec(P2, P5)\n",
    "\n",
    "r32 = - r23\n",
    "r42 = - r24\n",
    "r52 = - r25\n",
    "\n",
    "# von Knoten III ausgehend\n",
    "r34 = rtgvec(P3, P4)\n",
    "r35 = rtgvec(P3, P5)\n",
    "\n",
    "r43 = -r34\n",
    "r53 = -r35\n",
    "\n",
    "# von Knoten IV ausgehend\n",
    "r45 = rtgvec(P4, P5)\n",
    "r54 = -r45\n"
   ]
  },
  {
   "cell_type": "markdown",
   "id": "b3b58410-b3f2-4412-b848-2a68de3f6bcd",
   "metadata": {},
   "source": [
    "## c) Gleichungssystem für Knoten I in der Form $\\mathbf{A}_1 \\cdot \\vec{x} = \\vec{y_1}$"
   ]
  },
  {
   "cell_type": "markdown",
   "id": "c2d2cb3c-8c5c-4e3a-915d-cb44d57dc380",
   "metadata": {},
   "source": [
    "### Lösungshinweise\n",
    "\n",
    "Die Kräftebilanz an Knoten I lautet\n",
    "\n",
    "$$\n",
    "\\vec{F_{S1}} + \\vec{F_{S6}} + \\vec{F_{S8}} + \\vec{F_{S9}} + \\vec{F_A} \\stackrel{!}{=} \\vec{0}\n",
    "$$\n",
    "Jede Stab- und Lagerkraft muss in der Form \"Größe mal Richtung\" (z.B.: $\\vec{F_{S6}} = F_{S6}\\cdot \\vec{r}_{15}$) eingesetzt werden. Für die Stäbe nutzt man die berechneten Richtungsvektoren $\\vec{r}_{ij}$. Die Beträge der Lagerkräfte sind mit den jeweiligen Einheitsvektoren $\\vec{e}_x$, $\\vec{e}_y$, $\\vec{e}_z$ zu multiplizieren. Man erhält\n",
    "$$\n",
    "\\vec{r}_{12}\\cdot F_{S1} + \\vec{r}_{15}\\cdot F_{S6} + \\vec{r}_{14}\\cdot F_{S8} + \\vec{r}_{13}\\cdot F_{S9} + (-\\vec{e_z})\\cdot F_A \\stackrel{!}{=} \\vec{0}\n",
    "$$\n",
    "Um die Teilsysteme zum Gesamtsystem kombinieren zu können, muss der Vektor $\\vec{x}$ die Beträge aller Stab- Lagerkräfte beinhalten. Er muss also lauten\n",
    "$$\n",
    "\\vec{x} = \\big[F_{S1}, F_{S2}, \\dots F_{S9}, F_A, F_B \\dots F_F\\big]^T \n",
    "$$\n",
    "Deshalb muss für alle nicht in der Kräftebilanz an Knoten I auftauchenden Kräfte jeweils ein Produkt der Form $\\vec{0}\\cdot F_{Sx} = \\vec{0}$ eingesetzt werden. So vervollständigt lautet die Kräftebilanz:\n",
    "$$\n",
    "\\vec{r}_{12}\\cdot F_{S1} + \\vec{0}\\cdot F_{S2} + \\vec{0}\\cdot F_{S3} + \\vec{0}\\cdot F_{S4} + \n",
    "\\vec{0}\\cdot F_{S5} +  \\vec{r}_{15}\\cdot F_{S6} + \\vec{0}\\cdot F_{S7} + \\vec{r}_{14}\\cdot F_{S8} + \\vec{r}_{13}\\cdot F_{S9} + \n",
    "(-\\vec{e_z})\\cdot F_A + \\vec{0}\\cdot F_B + \\vec{0}\\cdot F_C + \\vec{0}\\cdot F_E + \\vec{0}\\cdot F_F\\stackrel{!}{=} \\vec{0}\n",
    "$$\n",
    "Diese wird zur Matrixgleichung\n",
    "$$\n",
    "\\underbrace{\n",
    "\\begin{bmatrix}\\vec{r}_{12} & \\vec{0} & \\vec{0} & \\vec{0} & \\vec{0} & \\vec{r}_{15} & \\vec{0} & \\vec{r}_{14} & \\vec{r}_{13} & -\\vec{e}_z & \\vec{0} & \\vec{0} & \\vec{0} & \\vec{0} & \\vec{0} \\end{bmatrix}\n",
    "}_{\\mathbf{A}_1}\n",
    "\\underbrace{\n",
    "\\cdot \\begin{bmatrix} F_{S1} \\\\ F_{S2} \\\\ \\dots \\\\ F_{S9} \\\\ F_A \\\\ F_B \\\\ \\dots \\\\F_F\\end{bmatrix} \n",
    "}_\\vec{x} = \\underbrace{\\begin{bmatrix}0 \\\\ 0 \\\\ 0\\end{bmatrix}}_{\\vec{y}_1}\n",
    "$$\n",
    ">Anmerkung: Es handelt sich um ein System aus 3 Gleichungen für 15 Unbekannte. $(3 \\times 15) \\cdot (15 \\times 1) = (3 \\times 1)$. $\\vec{y}_1$ ist der Vektor aus den Richtungskomponenten der an Knoten I angreifenden äußeren Kraft, hier also $\\vec{0}$"
   ]
  },
  {
   "cell_type": "code",
   "execution_count": 6,
   "id": "e153f0e5-cf21-4108-8011-9258d1510871",
   "metadata": {},
   "outputs": [],
   "source": [
    "# Nullvektor\n",
    "nv = np.array([[0, 0, 0]]).T\n",
    "\n",
    "# Einheitsvektoren\n",
    "ex = np.array([[1, 0, 0]]).T\n",
    "ey = np.array([[0, 1, 0]]).T\n",
    "ez = np.array([[0, 0, 1]]).T\n"
   ]
  },
  {
   "cell_type": "code",
   "execution_count": 7,
   "id": "af49b2d0-c7a2-484a-bb3f-9cc86c5c54f0",
   "metadata": {},
   "outputs": [],
   "source": [
    "# Matrix A1 aus Spaltenvektoren zusammenbauen\n",
    "\n",
    "# kleine \"Montagehilfe\" (damit kein Element vergessen wird. Kopieren Sie sich diese Zeilen auch in Aufgabenteil d)\n",
    "#                 F1   F2   F3   F4   F5   F6   F7   F8   F9      FA   FB   FC   FD   FE   FF\n",
    "#Ax = np.hstack([ nv,  nv,  nv,  nv,  nv,  nv,  nv,  nv,  nv,     nv,  nv,  nv,  nv,  nv,  nv])\n",
    "A1 = np.hstack([r12, nv, nv, nv, nv, r15, nv, r14, r13, ez, nv, nv, nv, nv, nv])"
   ]
  },
  {
   "cell_type": "code",
   "execution_count": 8,
   "id": "aa34d528-e709-4cc7-a5bb-a009f71ff3eb",
   "metadata": {},
   "outputs": [],
   "source": [
    "# Vektor der rechten Seite\n",
    "y1 = nv\n"
   ]
  },
  {
   "cell_type": "markdown",
   "id": "49e5a814-9d84-43f7-ab67-efcc8659a5ee",
   "metadata": {},
   "source": [
    "## d) Gleichungssysteme für Knoten II bis V (Lastfall $\\vec{F}=\\begin{bmatrix}0 & 0 & -1\\end{bmatrix}^T$)\n",
    "\n",
    "![](bilder/3d_trusses_equilibrium.gif) \n",
    "\n",
    "Aufstellen der Gleichungssysteme für die Knoten II bis V"
   ]
  },
  {
   "cell_type": "code",
   "execution_count": 9,
   "id": "20a80eb4-61aa-44a5-944e-16c6d8c79f6e",
   "metadata": {},
   "outputs": [],
   "source": [
    "#               F1   F2   F3   F4   F5   F6  F7 F8  F9  FA  FB  FC  FD  FE  FF\n",
    "A2 = np.hstack([r12, r24, r25, r23, nv, nv, nv, nv, nv, nv, nv, nv, nv, nv, nv])\n",
    "\n",
    "F=np.array([[0, 0, -1]]).T\n",
    "y2 = -F"
   ]
  },
  {
   "cell_type": "code",
   "execution_count": 10,
   "id": "3f4bd3b3-1e5c-4d38-a827-f5be6cd97a54",
   "metadata": {},
   "outputs": [],
   "source": [
    "#                 F1   F2   F3   F4    F5   F6   F7   F8   F9    FA   FB   FC   FD   FE   FF\n",
    "A3 = np.hstack([ nv,  nv,  nv,  r32,  r35,  nv,  nv,  nv,  r31, nv,  nv,  nv,  nv,  ey,  -ex])\n",
    "\n",
    "y3 = nv"
   ]
  },
  {
   "cell_type": "code",
   "execution_count": 11,
   "id": "98775753-4978-4a3a-905c-b97a91214ea6",
   "metadata": {},
   "outputs": [],
   "source": [
    "#                 F1   F2   F3   F4    F5   F6   F7   F8   F9    FA   FB   FC   FD   FE   FF\n",
    "A4 = np.hstack([ nv,  r42,  nv,  nv,  nv,  nv,  r45,  r41,  nv, nv,  -ez,  nv,  nv,  nv,  nv])\n",
    "\n",
    "y4 = nv"
   ]
  },
  {
   "cell_type": "code",
   "execution_count": 12,
   "id": "cefd157d-74cc-48b2-9d8c-3663bb099905",
   "metadata": {},
   "outputs": [],
   "source": [
    "#                 F1   F2   F3   F4    F5   F6   F7   F8   F9    FA   FB   FC   FD   FE   FF\n",
    "A5 = np.hstack([ nv,  nv,  r52,  nv,  r53,  r51,  r54,  nv,  nv, nv,  nv,  -ez,  ey,  nv,  nv])\n",
    "\n",
    "y5 = nv"
   ]
  },
  {
   "cell_type": "markdown",
   "id": "cee2ba00-0d99-42cf-a741-9e971a77eb76",
   "metadata": {},
   "source": [
    "## e) Kombinieren zum Gesamtsystem $\\mathbf{A} \\cdot \\vec{x} = \\vec{y}$\n",
    "\n",
    "Keines der Teilsysteme ist für sich lösbar. Fügt man diese jedoch in der folgenden Weise zusammen\n",
    "$$\n",
    "\\underbrace{\\begin{bmatrix} \\mathbf{A}_1 \\\\ \\mathbf{A}_2 \\\\ \\mathbf{A}_3 \\\\ \\mathbf{A}_4 \\\\ \\mathbf{A}_5\\end{bmatrix}}_{\\mathbf{A}}\n",
    "\\cdot \\underbrace{\n",
    "\\begin{bmatrix} F_{S1} \\\\ F_{S2} \\\\ \\dots \\\\ F_{S9} \\\\ F_A \\\\ F_B \\\\ \\dots \\\\F_F\\end{bmatrix} \n",
    "}_\\vec{x} = \\underbrace{\\begin{bmatrix} \\vec{y}_1 \\\\ \\vec{y}_2 \\\\ \\vec{y}_3 \\\\ \\vec{y}_4 \\\\ \\vec{y}_5\\end{bmatrix}}_{\\vec{y}}\n",
    "$$\n",
    "so entsteht ein (lösbares) System aus 15 Gleichungen für 15 Unbekannte."
   ]
  },
  {
   "cell_type": "code",
   "execution_count": 14,
   "id": "0c68a2eb-c545-477c-964d-8152187f49f8",
   "metadata": {},
   "outputs": [],
   "source": [
    "# Bauen der A-Matrix des Gesamtsystems\n",
    "A = np.vstack([A1, A2, A3, A4, A5])"
   ]
  },
  {
   "cell_type": "code",
   "execution_count": 15,
   "id": "24e65dc5-70fe-4512-b644-b2a0a1dc5584",
   "metadata": {
    "tags": []
   },
   "outputs": [
    {
     "data": {
      "text/plain": [
       "(array([[0],\n",
       "        [0],\n",
       "        [0]]),\n",
       " array([[0],\n",
       "        [0],\n",
       "        [1]]),\n",
       " array([[0],\n",
       "        [0],\n",
       "        [0]]),\n",
       " array([[0],\n",
       "        [0],\n",
       "        [0]]),\n",
       " array([[0],\n",
       "        [0],\n",
       "        [0]]))"
      ]
     },
     "execution_count": 15,
     "metadata": {},
     "output_type": "execute_result"
    }
   ],
   "source": [
    "# Vergleich mit Muster-A-Matrix\n",
    "Aref = np.load('A.npy')\n",
    "# Ausdruck, der True ergibt, wenn alle Element stimmen\n",
    "(A == Aref).all()\n",
    "y1, y2, y3, y4, y5"
   ]
  },
  {
   "cell_type": "code",
   "execution_count": 16,
   "id": "2bfdb0e2-890e-41fb-8c47-65277e66f68a",
   "metadata": {},
   "outputs": [],
   "source": [
    "# Bauen des y-Vektors des Gesamtsystems\n",
    "y = np.vstack([y1, y2, y3, y4, y5])"
   ]
  },
  {
   "cell_type": "markdown",
   "id": "9e43ff11-0470-4ba9-a69b-5f6fd72af788",
   "metadata": {},
   "source": [
    "## f) Lösen des Gleichungssystems "
   ]
  },
  {
   "cell_type": "code",
   "execution_count": 19,
   "id": "1b420257-d47f-4c8d-b20a-c038439c96cf",
   "metadata": {},
   "outputs": [
    {
     "data": {
      "text/plain": [
       "array([[-5.83333333e-01],\n",
       "       [ 4.62592927e-18],\n",
       "       [-5.83333333e-01],\n",
       "       [ 0.00000000e+00],\n",
       "       [ 0.00000000e+00],\n",
       "       [ 3.00462606e-01],\n",
       "       [ 0.00000000e+00],\n",
       "       [-0.00000000e+00],\n",
       "       [ 4.16333634e-17],\n",
       "       [-5.00000000e-01],\n",
       "       [ 0.00000000e+00],\n",
       "       [-5.00000000e-01],\n",
       "       [ 4.16333634e-17],\n",
       "       [ 4.16333634e-17],\n",
       "       [-0.00000000e+00]])"
      ]
     },
     "execution_count": 19,
     "metadata": {},
     "output_type": "execute_result"
    }
   ],
   "source": [
    "# Lösen\n",
    "x = np.linalg.solve(Aref, y)\n",
    "x"
   ]
  },
  {
   "cell_type": "code",
   "execution_count": 20,
   "id": "ca5217bb-7596-469b-b9e5-fda08343b0f8",
   "metadata": {},
   "outputs": [
    {
     "data": {
      "text/plain": [
       "array([[-0.58333333],\n",
       "       [ 0.        ],\n",
       "       [-0.58333333],\n",
       "       [ 0.        ],\n",
       "       [ 0.        ],\n",
       "       [ 0.30046261],\n",
       "       [ 0.        ],\n",
       "       [ 0.        ],\n",
       "       [ 0.        ],\n",
       "       [-0.5       ],\n",
       "       [ 0.        ],\n",
       "       [-0.5       ],\n",
       "       [ 0.        ],\n",
       "       [ 0.        ],\n",
       "       [ 0.        ]])"
      ]
     },
     "execution_count": 20,
     "metadata": {},
     "output_type": "execute_result"
    }
   ],
   "source": [
    "# Übersicht schaffen: Nahe-Null-Werte durch 0 ersetzen\n",
    "x[np.isclose(x,0)]=0\n",
    "x"
   ]
  },
  {
   "cell_type": "markdown",
   "id": "594ed692-a735-4a74-93b4-3fed7e0bf729",
   "metadata": {},
   "source": [
    "## g) Prüfung der Lösung"
   ]
  },
  {
   "cell_type": "code",
   "execution_count": 21,
   "id": "52d62f77-5d94-48b2-b3b4-cee0b57eb4b9",
   "metadata": {},
   "outputs": [
    {
     "data": {
      "text/plain": [
       "<function ndarray.all>"
      ]
     },
     "execution_count": 21,
     "metadata": {},
     "output_type": "execute_result"
    }
   ],
   "source": [
    "# Rechnerische Prüfung\n",
    "np.isclose(A @ x - y,0).all()"
   ]
  },
  {
   "cell_type": "code",
   "execution_count": null,
   "id": "bd858c23-4c98-4633-bcf4-aeb04dfb882e",
   "metadata": {
    "tags": []
   },
   "outputs": [],
   "source": [
    "# Exemplarische Mechanische Prüfung: Kräftebilanz an Knoten III\n"
   ]
  },
  {
   "cell_type": "markdown",
   "id": "63987c92-9326-4616-9987-698b832a133a",
   "metadata": {},
   "source": [
    "## h) Lösen für den Lastfall $\\vec{F}=\\frac{1}{\\sqrt{3}}\\begin{bmatrix}-1 & 1 & 1\\end{bmatrix}^T$ (Zugkraft schräg nach oben)"
   ]
  },
  {
   "cell_type": "code",
   "execution_count": null,
   "id": "a50f3d06-1670-4208-8b52-0b6b92c6b5ee",
   "metadata": {},
   "outputs": [],
   "source": [
    "F = \n",
    "# Rechte Seite\n",
    "y = "
   ]
  },
  {
   "cell_type": "code",
   "execution_count": null,
   "id": "d6ef2840-771f-4fa0-a9b3-0d644a210326",
   "metadata": {},
   "outputs": [],
   "source": [
    "x =\n"
   ]
  },
  {
   "cell_type": "code",
   "execution_count": null,
   "id": "f91c6d23-07ee-4047-a27e-255fbae96469",
   "metadata": {},
   "outputs": [],
   "source": [
    "# Rechnerische Prüfung\n"
   ]
  },
  {
   "cell_type": "code",
   "execution_count": null,
   "id": "fe508319-bc9a-43c8-8687-4d4abcf768ee",
   "metadata": {
    "tags": []
   },
   "outputs": [],
   "source": [
    "# Exemplarische Mechanische Prüfung: Kräftebilanz an Knoten III\n"
   ]
  }
 ],
 "metadata": {
  "kernelspec": {
   "display_name": "Python 3 (ipykernel)",
   "language": "python",
   "name": "python3"
  },
  "language_info": {
   "codemirror_mode": {
    "name": "ipython",
    "version": 3
   },
   "file_extension": ".py",
   "mimetype": "text/x-python",
   "name": "python",
   "nbconvert_exporter": "python",
   "pygments_lexer": "ipython3",
   "version": "3.10.8"
  }
 },
 "nbformat": 4,
 "nbformat_minor": 5
}
