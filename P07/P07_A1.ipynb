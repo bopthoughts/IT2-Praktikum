{
 "cells": [
  {
   "cell_type": "markdown",
   "id": "a0a08966-dbf3-4561-8bfc-a90556cce192",
   "metadata": {},
   "source": [
    "## Aufgabenstellung:\n",
    "Generieren Sie mithilfe des thinkdsp Moduls ein Python-Programm, um Töne zu erkennen und Dreiklänge (mehrere Töne) zu erkennen.\n",
    "Die Frequenzen und die zugehörigen Töne sind in dictionaries zusammengefasst.\n",
    "Wave Dateien mit unterschiedlichen Inhalten müssen geladen, dargestellt und - wenn gewünscht - angehört werden.\n",
    "Die zu klassifizierenden Wave Dateien enthalten einzelne Töne, aber auch mehrere Töne, die Identifiziert werden sollen.\n",
    "Die Töne wurden mit einer Gitarre erzeugt, so dass ein paar spezifische Randbedingungen (Obertöne) berücksichtigt werden müssen."
   ]
  },
  {
   "cell_type": "markdown",
   "id": "4c214e7d-a16c-4477-8611-891a85ee2336",
   "metadata": {},
   "source": [
    "### 1. Notwendige Packages und Module importieren"
   ]
  },
  {
   "cell_type": "code",
   "execution_count": 1,
   "id": "63b2ddbb-6435-4205-a539-4723c4041e1d",
   "metadata": {},
   "outputs": [],
   "source": [
    "import thinkdsp\n",
    "import thinkplot\n",
    "import numpy as np"
   ]
  },
  {
   "cell_type": "markdown",
   "id": "6cb49761-f3bc-4919-b607-b7d62e58876f",
   "metadata": {},
   "source": [
    "### 2. Dictionaries\n",
    "Das folgende Dictionary guitar_tunes verbindet die einzelnen Töne auf einer Standardgitarre mit den Frequenzen.\n",
    "E2 entspricht also 82.4 Hz und E3, eine Oktave höher, hat die Frequenz 164.81 Hz.\n",
    "Man braucht die sog. Obertöne, da eine einzelne Gitarrensaite nicht nur in einer Frequenz schwingt, sondern auch\n",
    "Obertöne generiert, also alles im Bereich \"E\".\n",
    "Das dictionary notes_to_500_B4 listet alle Töne im Frequenzbereich von ~80 Hz bis 500 Hz auf und stellt den Zusammenhang\n",
    "ziwschen den Einzeltönen zur Detektion von Mehrklängen her."
   ]
  },
  {
   "cell_type": "code",
   "execution_count": 2,
   "id": "d1bce9f8-6a2a-41e4-80e6-f809bd3e0423",
   "metadata": {
    "tags": []
   },
   "outputs": [],
   "source": [
    "guitar_tones = {'E2':82.4, 'E3':164.81, 'E4':329.63, 'E5':659.25, 'A2':110, 'A3':220, 'A4':440, 'D3':146.83,\n",
    "                'D4':293.67, 'D5':587.33, 'G2':97.99, 'G3':195.99, 'G4':391.99, 'H2':116.54, 'H3':233.08, 'H4':466.16}"
   ]
  },
  {
   "cell_type": "code",
   "execution_count": 5,
   "id": "76c26bef-9cc8-4ae8-a86a-94348ba14456",
   "metadata": {},
   "outputs": [
    {
     "ename": "FileNotFoundError",
     "evalue": "[Errno 2] No such file or directory: 'Datei G1.wav'",
     "output_type": "error",
     "traceback": [
      "\u001b[0;31m---------------------------------------------------------------------------\u001b[0m",
      "\u001b[0;31mFileNotFoundError\u001b[0m                         Traceback (most recent call last)",
      "Cell \u001b[0;32mIn[5], line 1\u001b[0m\n\u001b[0;32m----> 1\u001b[0m a \u001b[38;5;241m=\u001b[39m \u001b[43mthinkdsp\u001b[49m\u001b[38;5;241;43m.\u001b[39;49m\u001b[43mread_wave\u001b[49m\u001b[43m(\u001b[49m\u001b[38;5;124;43m'\u001b[39;49m\u001b[38;5;124;43mDatei G1.wav\u001b[39;49m\u001b[38;5;124;43m'\u001b[39;49m\u001b[43m)\u001b[49m\n\u001b[1;32m      2\u001b[0m a\u001b[38;5;241m.\u001b[39mmake_audio()\n",
      "File \u001b[0;32m~/work/Praktikum/P07/thinkdsp.py:97\u001b[0m, in \u001b[0;36mread_wave\u001b[0;34m(filename)\u001b[0m\n\u001b[1;32m     90\u001b[0m \u001b[38;5;28;01mdef\u001b[39;00m \u001b[38;5;21mread_wave\u001b[39m(filename\u001b[38;5;241m=\u001b[39m\u001b[38;5;124m\"\u001b[39m\u001b[38;5;124msound.wav\u001b[39m\u001b[38;5;124m\"\u001b[39m):\n\u001b[1;32m     91\u001b[0m     \u001b[38;5;124;03m\"\"\"Reads a wave file.\u001b[39;00m\n\u001b[1;32m     92\u001b[0m \n\u001b[1;32m     93\u001b[0m \u001b[38;5;124;03m    filename: string\u001b[39;00m\n\u001b[1;32m     94\u001b[0m \n\u001b[1;32m     95\u001b[0m \u001b[38;5;124;03m    returns: Wave\u001b[39;00m\n\u001b[1;32m     96\u001b[0m \u001b[38;5;124;03m    \"\"\"\u001b[39;00m\n\u001b[0;32m---> 97\u001b[0m     fp \u001b[38;5;241m=\u001b[39m \u001b[43mopen_wave\u001b[49m\u001b[43m(\u001b[49m\u001b[43mfilename\u001b[49m\u001b[43m,\u001b[49m\u001b[43m \u001b[49m\u001b[38;5;124;43m\"\u001b[39;49m\u001b[38;5;124;43mr\u001b[39;49m\u001b[38;5;124;43m\"\u001b[39;49m\u001b[43m)\u001b[49m\n\u001b[1;32m     99\u001b[0m     nchannels \u001b[38;5;241m=\u001b[39m fp\u001b[38;5;241m.\u001b[39mgetnchannels()\n\u001b[1;32m    100\u001b[0m     nframes \u001b[38;5;241m=\u001b[39m fp\u001b[38;5;241m.\u001b[39mgetnframes()\n",
      "File \u001b[0;32m/opt/conda/lib/python3.10/wave.py:509\u001b[0m, in \u001b[0;36mopen\u001b[0;34m(f, mode)\u001b[0m\n\u001b[1;32m    507\u001b[0m         mode \u001b[38;5;241m=\u001b[39m \u001b[38;5;124m'\u001b[39m\u001b[38;5;124mrb\u001b[39m\u001b[38;5;124m'\u001b[39m\n\u001b[1;32m    508\u001b[0m \u001b[38;5;28;01mif\u001b[39;00m mode \u001b[38;5;129;01min\u001b[39;00m (\u001b[38;5;124m'\u001b[39m\u001b[38;5;124mr\u001b[39m\u001b[38;5;124m'\u001b[39m, \u001b[38;5;124m'\u001b[39m\u001b[38;5;124mrb\u001b[39m\u001b[38;5;124m'\u001b[39m):\n\u001b[0;32m--> 509\u001b[0m     \u001b[38;5;28;01mreturn\u001b[39;00m \u001b[43mWave_read\u001b[49m\u001b[43m(\u001b[49m\u001b[43mf\u001b[49m\u001b[43m)\u001b[49m\n\u001b[1;32m    510\u001b[0m \u001b[38;5;28;01melif\u001b[39;00m mode \u001b[38;5;129;01min\u001b[39;00m (\u001b[38;5;124m'\u001b[39m\u001b[38;5;124mw\u001b[39m\u001b[38;5;124m'\u001b[39m, \u001b[38;5;124m'\u001b[39m\u001b[38;5;124mwb\u001b[39m\u001b[38;5;124m'\u001b[39m):\n\u001b[1;32m    511\u001b[0m     \u001b[38;5;28;01mreturn\u001b[39;00m Wave_write(f)\n",
      "File \u001b[0;32m/opt/conda/lib/python3.10/wave.py:159\u001b[0m, in \u001b[0;36mWave_read.__init__\u001b[0;34m(self, f)\u001b[0m\n\u001b[1;32m    157\u001b[0m \u001b[38;5;28mself\u001b[39m\u001b[38;5;241m.\u001b[39m_i_opened_the_file \u001b[38;5;241m=\u001b[39m \u001b[38;5;28;01mNone\u001b[39;00m\n\u001b[1;32m    158\u001b[0m \u001b[38;5;28;01mif\u001b[39;00m \u001b[38;5;28misinstance\u001b[39m(f, \u001b[38;5;28mstr\u001b[39m):\n\u001b[0;32m--> 159\u001b[0m     f \u001b[38;5;241m=\u001b[39m \u001b[43mbuiltins\u001b[49m\u001b[38;5;241;43m.\u001b[39;49m\u001b[43mopen\u001b[49m\u001b[43m(\u001b[49m\u001b[43mf\u001b[49m\u001b[43m,\u001b[49m\u001b[43m \u001b[49m\u001b[38;5;124;43m'\u001b[39;49m\u001b[38;5;124;43mrb\u001b[39;49m\u001b[38;5;124;43m'\u001b[39;49m\u001b[43m)\u001b[49m\n\u001b[1;32m    160\u001b[0m     \u001b[38;5;28mself\u001b[39m\u001b[38;5;241m.\u001b[39m_i_opened_the_file \u001b[38;5;241m=\u001b[39m f\n\u001b[1;32m    161\u001b[0m \u001b[38;5;66;03m# else, assume it is an open file object already\u001b[39;00m\n",
      "\u001b[0;31mFileNotFoundError\u001b[0m: [Errno 2] No such file or directory: 'Datei G1.wav'"
     ]
    }
   ],
   "source": [
    "a = thinkdsp.read_wave('Datei G1.wav')\n",
    "a.make_audio()"
   ]
  },
  {
   "cell_type": "code",
   "execution_count": 3,
   "id": "253222d8-6166-4f30-8f8a-b4422efdde8b",
   "metadata": {
    "tags": []
   },
   "outputs": [],
   "source": [
    "notes_to_500_B4 = {'B4':493.883,'Bb4':466.164,'A4':440,'G#4':415.305,'G4':391.995,'F#4':369.994,'F4':349.228,'E4':329.628,'D#4':311.127,'D4':293.665,\n",
    "                   'C#4':277.183,'C4':261.626,'B3':246.942,'Bb3':233.082,'A3':220,'G#3':207.652,'G3':195.998,'F#3':184.997,'F3':174.614,'E3':164.814,\n",
    "                   'D#3':155.563,'D3':146.832,'C#3':138.591,'C3':130.813,'B2':123.471,'Bb2':116.541,'A2':110,'G#2':103.826,'G2':97.9989,'F#2':92.4986,\n",
    "                   'F2':87.3071,'E2':82.4069}"
   ]
  },
  {
   "cell_type": "markdown",
   "id": "ff13813c-e469-4631-9035-6181f9c86f39",
   "metadata": {},
   "source": [
    "Das Dictionary Harmonics wird später für die Identifilation der Dreiklänge benutzt.\n",
    "Hier sind einfache Dur-Dreiklänge aufgelistet, die auf der Gitarre gespielt werden und identifiziert werden sollen."
   ]
  },
  {
   "cell_type": "code",
   "execution_count": 4,
   "id": "fe4e1dc3-027a-4e9a-9972-bd81ceb87515",
   "metadata": {},
   "outputs": [],
   "source": [
    "harmonics = {'C-Dur':['C','E','G'],'D-Dur':['D','F#','A'],'E-Dur':['E','G#','B'],'F-Dur':['F','A','C'],'G-Dur':['G','B','D'],\n",
    "             'A-Dur':['A','C#','E'],'B-Dur':['B','D#','F#']} "
   ]
  },
  {
   "cell_type": "markdown",
   "id": "eaf2f473-ea84-43c1-9fb4-23648b1adea7",
   "metadata": {},
   "source": [
    "## 3. Zuerst müssen die Daten eingelesen werden.\n",
    "Lesen Sie als erstes die Datei G1.wav mit thinkdsp in ein wave Objekt ein und hören Sie sich die Datei an.\n",
    "Anschließend erzeugen Sie ein Spektrum.\n",
    "Wieviele Frequenzen (Töne) entdecken Sie?"
   ]
  },
  {
   "cell_type": "markdown",
   "id": "6668c36e-715e-4d04-ab56-82ece319fe12",
   "metadata": {},
   "source": [
    "Schreiben Sie eine Funktion, um die ersten zehn Frequenzen aus dem Spektrum zu bestimmen.\n",
    "Benutzen Sie dazu die Funktion peaks() des spectrum Objects."
   ]
  },
  {
   "cell_type": "markdown",
   "id": "9eff3f7d-8c16-4b97-8f45-b2224c0b1b42",
   "metadata": {},
   "source": [
    "Listen Sie die zehn Frequenzen mit der größten Amplitude auf und benutzen Sie das Dictionary guitar_tones, um die Note auszugeben. Wenn Sie numpy mögen, dann können Sie auch np.isclose() benutzen"
   ]
  },
  {
   "cell_type": "markdown",
   "id": "46af635d-e935-406b-9afd-e7b65f992b88",
   "metadata": {},
   "source": [
    "### 4. Nun wenden Sie ihre Funktionen auf die Datei G2.wav und G3.wav an\n",
    "Welche Noten sind in G2 und G3 vorhanden?"
   ]
  },
  {
   "cell_type": "code",
   "execution_count": null,
   "id": "9d72d8ce-4892-4c4b-babc-e43e0b96a57f",
   "metadata": {
    "tags": []
   },
   "outputs": [],
   "source": []
  },
  {
   "cell_type": "markdown",
   "id": "b569859b-4a1f-4b6c-b00f-1cc0edb17fc6",
   "metadata": {},
   "source": [
    "### 5. Erweitern Sie ihren Code so, dass auch Mehrklänge detektiert werden.\n",
    "Hier sollen nur Dreiklänge identifiziert werden.\n",
    "Die Dateien Chord01.wav, Chord02.wav und Chord03.wav enthalten Dreiklänge, die Sie wieder\n",
    "im Frequenzbereich darstellen können und mit den vorher definierten Funktion untersuchen sollen. "
   ]
  },
  {
   "cell_type": "code",
   "execution_count": null,
   "id": "3d66871c-9f7a-4c3e-b2ce-2c32195515bd",
   "metadata": {},
   "outputs": [],
   "source": []
  },
  {
   "cell_type": "markdown",
   "id": "7a5072f0-3441-40d8-b1b5-c2f008132a80",
   "metadata": {},
   "source": [
    "Definieren Sie eine Funktion, die aus den detektierten Frequenzen die Noten und den Dreiklang generiert.\n",
    "Löschen Sie dabei mehrfach vorkommende Noten, bzw. ersetzen Sie z.B. das D4 mit einem D, so dass eindeutig drei Noten\n",
    "zur Identifikation verfügbar sind."
   ]
  },
  {
   "cell_type": "code",
   "execution_count": null,
   "id": "bb939387-6b43-4158-9331-7ea5b059d6ae",
   "metadata": {},
   "outputs": [],
   "source": []
  }
 ],
 "metadata": {
  "kernelspec": {
   "display_name": "Python 3 (ipykernel)",
   "language": "python",
   "name": "python3"
  },
  "language_info": {
   "codemirror_mode": {
    "name": "ipython",
    "version": 3
   },
   "file_extension": ".py",
   "mimetype": "text/x-python",
   "name": "python",
   "nbconvert_exporter": "python",
   "pygments_lexer": "ipython3",
   "version": "3.10.8"
  }
 },
 "nbformat": 4,
 "nbformat_minor": 5
}
